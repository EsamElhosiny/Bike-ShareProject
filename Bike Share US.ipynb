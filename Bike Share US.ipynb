{
 "cells": [
  {
   "cell_type": "code",
   "execution_count": 1,
   "id": "54417164",
   "metadata": {},
   "outputs": [],
   "source": [
    "import pandas as pd\n"
   ]
  },
  {
   "cell_type": "code",
   "execution_count": 2,
   "id": "032c64a2",
   "metadata": {},
   "outputs": [],
   "source": [
    "chicago = pd.read_csv(\"chicago.csv\")\n",
    "newyork = pd.read_csv(\"new_york_city.csv\")\n",
    "washington = pd.read_csv(\"washington.csv\")"
   ]
  },
  {
   "cell_type": "code",
   "execution_count": 3,
   "id": "6b81c8e0",
   "metadata": {},
   "outputs": [],
   "source": [
    "Data = [chicago, newyork, washington]\n",
    "Dataname = ['chicago', 'newyork', 'washington']"
   ]
  },
  {
   "cell_type": "code",
   "execution_count": 4,
   "id": "48408c85",
   "metadata": {},
   "outputs": [
    {
     "name": "stdout",
     "output_type": "stream",
     "text": [
      "Shape for chicago is (300000, 9)\n",
      "Shape for newyork is (300000, 9)\n",
      "Shape for washington is (300000, 7)\n"
     ]
    }
   ],
   "source": [
    "for data, dataname in zip(Data, Dataname):\n",
    "    print(f'Shape for {str(dataname)} is {data.shape}')"
   ]
  },
  {
   "cell_type": "code",
   "execution_count": 5,
   "id": "eba2198b",
   "metadata": {},
   "outputs": [
    {
     "name": "stdout",
     "output_type": "stream",
     "text": [
      "The Null Values for chicago is \n",
      "Unnamed: 0           0\n",
      "Start Time           0\n",
      "End Time             0\n",
      "Trip Duration        0\n",
      "Start Station        0\n",
      "End Station          0\n",
      "User Type            0\n",
      "Gender           61052\n",
      "Birth Year       61019\n",
      "dtype: int64\n",
      "---------------------------------\n",
      "The Null Values for newyork is \n",
      "Unnamed: 0           0\n",
      "Start Time           0\n",
      "End Time             0\n",
      "Trip Duration        0\n",
      "Start Station        0\n",
      "End Station          0\n",
      "User Type          692\n",
      "Gender           29209\n",
      "Birth Year       28220\n",
      "dtype: int64\n",
      "---------------------------------\n",
      "The Null Values for washington is \n",
      "Unnamed: 0       0\n",
      "Start Time       0\n",
      "End Time         0\n",
      "Trip Duration    0\n",
      "Start Station    0\n",
      "End Station      0\n",
      "User Type        0\n",
      "dtype: int64\n",
      "---------------------------------\n"
     ]
    }
   ],
   "source": [
    "for data, dataname in zip(Data, Dataname):\n",
    "    print(f'The Null Values for {str(dataname)} is \\n{data.isna().sum()}')\n",
    "    print('---------------------------------')"
   ]
  },
  {
   "cell_type": "code",
   "execution_count": 6,
   "id": "de1c7c3e",
   "metadata": {},
   "outputs": [
    {
     "name": "stdout",
     "output_type": "stream",
     "text": [
      "DF Chicago:\n",
      " ['id', 'start time', 'end time', 'trip duration', 'start station', 'end station', 'user type', 'gender', 'birth year']\n",
      "-----------\n",
      "DF Newyork:\n",
      " ['id', 'start time', 'end time', 'trip duration', 'start station', 'end station', 'user type', 'gender', 'birth year']\n",
      "-----------\n",
      "DF Washington:\n",
      " ['id', 'start time', 'end time', 'trip duration', 'start station', 'end station', 'user type']\n"
     ]
    }
   ],
   "source": [
    "# [0] = chicago, [1] = newyork, [2] = washington\n",
    "# convert columns name from uper to lower\n",
    "# Rename first column to (id)\n",
    "\n",
    "Data[0].rename(columns=str.lower, inplace=True)\n",
    "Data[0].rename(columns={'unnamed: 0':'id'}, inplace=True)\n",
    "\n",
    "Data[1].rename(columns=str.lower, inplace=True)\n",
    "Data[1].rename(columns={'unnamed: 0':'id'}, inplace=True)\n",
    "\n",
    "Data[2].rename(columns=str.lower, inplace=True)\n",
    "Data[2].rename(columns={'unnamed: 0':'id'}, inplace=True)\n",
    "\n",
    "print(f\"DF Chicago:\\n {list(Data[0])}\")\n",
    "print(\"-----------\")\n",
    "print(f\"DF Newyork:\\n {list(Data[1])}\")\n",
    "print(\"-----------\")\n",
    "print(f\"DF Washington:\\n {list(Data[2])}\")"
   ]
  },
  {
   "cell_type": "code",
   "execution_count": 7,
   "id": "0ad41e13",
   "metadata": {},
   "outputs": [
    {
     "data": {
      "text/html": [
       "<div>\n",
       "<style scoped>\n",
       "    .dataframe tbody tr th:only-of-type {\n",
       "        vertical-align: middle;\n",
       "    }\n",
       "\n",
       "    .dataframe tbody tr th {\n",
       "        vertical-align: top;\n",
       "    }\n",
       "\n",
       "    .dataframe thead th {\n",
       "        text-align: right;\n",
       "    }\n",
       "</style>\n",
       "<table border=\"1\" class=\"dataframe\">\n",
       "  <thead>\n",
       "    <tr style=\"text-align: right;\">\n",
       "      <th></th>\n",
       "      <th>count</th>\n",
       "      <th>mean</th>\n",
       "      <th>std</th>\n",
       "      <th>min</th>\n",
       "      <th>25%</th>\n",
       "      <th>50%</th>\n",
       "      <th>75%</th>\n",
       "      <th>max</th>\n",
       "    </tr>\n",
       "  </thead>\n",
       "  <tbody>\n",
       "    <tr>\n",
       "      <th>id</th>\n",
       "      <td>300000.0</td>\n",
       "      <td>776345.813277</td>\n",
       "      <td>448146.363046</td>\n",
       "      <td>4.0</td>\n",
       "      <td>387136.75</td>\n",
       "      <td>777103.5</td>\n",
       "      <td>1164065.25</td>\n",
       "      <td>1551500.0</td>\n",
       "    </tr>\n",
       "    <tr>\n",
       "      <th>trip duration</th>\n",
       "      <td>300000.0</td>\n",
       "      <td>936.239290</td>\n",
       "      <td>1548.792767</td>\n",
       "      <td>60.0</td>\n",
       "      <td>393.00</td>\n",
       "      <td>670.0</td>\n",
       "      <td>1125.00</td>\n",
       "      <td>86224.0</td>\n",
       "    </tr>\n",
       "    <tr>\n",
       "      <th>birth year</th>\n",
       "      <td>238981.0</td>\n",
       "      <td>1980.858223</td>\n",
       "      <td>11.003329</td>\n",
       "      <td>1899.0</td>\n",
       "      <td>1975.00</td>\n",
       "      <td>1984.0</td>\n",
       "      <td>1989.00</td>\n",
       "      <td>2016.0</td>\n",
       "    </tr>\n",
       "  </tbody>\n",
       "</table>\n",
       "</div>"
      ],
      "text/plain": [
       "                  count           mean            std     min        25%  \\\n",
       "id             300000.0  776345.813277  448146.363046     4.0  387136.75   \n",
       "trip duration  300000.0     936.239290    1548.792767    60.0     393.00   \n",
       "birth year     238981.0    1980.858223      11.003329  1899.0    1975.00   \n",
       "\n",
       "                    50%         75%        max  \n",
       "id             777103.5  1164065.25  1551500.0  \n",
       "trip duration     670.0     1125.00    86224.0  \n",
       "birth year       1984.0     1989.00     2016.0  "
      ]
     },
     "execution_count": 7,
     "metadata": {},
     "output_type": "execute_result"
    }
   ],
   "source": [
    "# T is Transpose for make columns rows and vice versa\n",
    "Data[0].describe().T\n"
   ]
  },
  {
   "cell_type": "code",
   "execution_count": 8,
   "id": "5d5d0374",
   "metadata": {},
   "outputs": [
    {
     "data": {
      "text/html": [
       "<div>\n",
       "<style scoped>\n",
       "    .dataframe tbody tr th:only-of-type {\n",
       "        vertical-align: middle;\n",
       "    }\n",
       "\n",
       "    .dataframe tbody tr th {\n",
       "        vertical-align: top;\n",
       "    }\n",
       "\n",
       "    .dataframe thead th {\n",
       "        text-align: right;\n",
       "    }\n",
       "</style>\n",
       "<table border=\"1\" class=\"dataframe\">\n",
       "  <thead>\n",
       "    <tr style=\"text-align: right;\">\n",
       "      <th></th>\n",
       "      <th>count</th>\n",
       "      <th>mean</th>\n",
       "      <th>std</th>\n",
       "      <th>min</th>\n",
       "      <th>25%</th>\n",
       "      <th>50%</th>\n",
       "      <th>75%</th>\n",
       "      <th>max</th>\n",
       "    </tr>\n",
       "  </thead>\n",
       "  <tbody>\n",
       "    <tr>\n",
       "      <th>id</th>\n",
       "      <td>300000.0</td>\n",
       "      <td>3.407026e+06</td>\n",
       "      <td>1.965617e+06</td>\n",
       "      <td>33.0</td>\n",
       "      <td>1707416.25</td>\n",
       "      <td>3405756.0</td>\n",
       "      <td>5108761.5</td>\n",
       "      <td>6816152.0</td>\n",
       "    </tr>\n",
       "    <tr>\n",
       "      <th>trip duration</th>\n",
       "      <td>300000.0</td>\n",
       "      <td>8.996842e+02</td>\n",
       "      <td>5.710016e+03</td>\n",
       "      <td>61.0</td>\n",
       "      <td>368.00</td>\n",
       "      <td>609.0</td>\n",
       "      <td>1054.0</td>\n",
       "      <td>2155775.0</td>\n",
       "    </tr>\n",
       "    <tr>\n",
       "      <th>birth year</th>\n",
       "      <td>271780.0</td>\n",
       "      <td>1.978254e+03</td>\n",
       "      <td>1.184804e+01</td>\n",
       "      <td>1885.0</td>\n",
       "      <td>1970.00</td>\n",
       "      <td>1981.0</td>\n",
       "      <td>1988.0</td>\n",
       "      <td>2001.0</td>\n",
       "    </tr>\n",
       "  </tbody>\n",
       "</table>\n",
       "</div>"
      ],
      "text/plain": [
       "                  count          mean           std     min         25%  \\\n",
       "id             300000.0  3.407026e+06  1.965617e+06    33.0  1707416.25   \n",
       "trip duration  300000.0  8.996842e+02  5.710016e+03    61.0      368.00   \n",
       "birth year     271780.0  1.978254e+03  1.184804e+01  1885.0     1970.00   \n",
       "\n",
       "                     50%        75%        max  \n",
       "id             3405756.0  5108761.5  6816152.0  \n",
       "trip duration      609.0     1054.0  2155775.0  \n",
       "birth year        1981.0     1988.0     2001.0  "
      ]
     },
     "execution_count": 8,
     "metadata": {},
     "output_type": "execute_result"
    }
   ],
   "source": [
    "Data[1].describe().T"
   ]
  },
  {
   "cell_type": "code",
   "execution_count": 9,
   "id": "78058963",
   "metadata": {},
   "outputs": [
    {
     "data": {
      "text/html": [
       "<div>\n",
       "<style scoped>\n",
       "    .dataframe tbody tr th:only-of-type {\n",
       "        vertical-align: middle;\n",
       "    }\n",
       "\n",
       "    .dataframe tbody tr th {\n",
       "        vertical-align: top;\n",
       "    }\n",
       "\n",
       "    .dataframe thead th {\n",
       "        text-align: right;\n",
       "    }\n",
       "</style>\n",
       "<table border=\"1\" class=\"dataframe\">\n",
       "  <thead>\n",
       "    <tr style=\"text-align: right;\">\n",
       "      <th></th>\n",
       "      <th>count</th>\n",
       "      <th>mean</th>\n",
       "      <th>std</th>\n",
       "      <th>min</th>\n",
       "      <th>25%</th>\n",
       "      <th>50%</th>\n",
       "      <th>75%</th>\n",
       "      <th>max</th>\n",
       "    </tr>\n",
       "  </thead>\n",
       "  <tbody>\n",
       "    <tr>\n",
       "      <th>id</th>\n",
       "      <td>300000.0</td>\n",
       "      <td>875404.389300</td>\n",
       "      <td>505933.462622</td>\n",
       "      <td>7.00</td>\n",
       "      <td>436393.750</td>\n",
       "      <td>875063.5000</td>\n",
       "      <td>1.313148e+06</td>\n",
       "      <td>1751446.00</td>\n",
       "    </tr>\n",
       "    <tr>\n",
       "      <th>trip duration</th>\n",
       "      <td>300000.0</td>\n",
       "      <td>1237.279952</td>\n",
       "      <td>5461.996571</td>\n",
       "      <td>60.01</td>\n",
       "      <td>410.623</td>\n",
       "      <td>706.5015</td>\n",
       "      <td>1.229427e+03</td>\n",
       "      <td>1235662.17</td>\n",
       "    </tr>\n",
       "  </tbody>\n",
       "</table>\n",
       "</div>"
      ],
      "text/plain": [
       "                  count           mean            std    min         25%  \\\n",
       "id             300000.0  875404.389300  505933.462622   7.00  436393.750   \n",
       "trip duration  300000.0    1237.279952    5461.996571  60.01     410.623   \n",
       "\n",
       "                       50%           75%         max  \n",
       "id             875063.5000  1.313148e+06  1751446.00  \n",
       "trip duration     706.5015  1.229427e+03  1235662.17  "
      ]
     },
     "execution_count": 9,
     "metadata": {},
     "output_type": "execute_result"
    }
   ],
   "source": [
    "Data[2].describe().T"
   ]
  },
  {
   "cell_type": "code",
   "execution_count": 10,
   "id": "90e2284e",
   "metadata": {},
   "outputs": [
    {
     "data": {
      "text/html": [
       "<div>\n",
       "<style scoped>\n",
       "    .dataframe tbody tr th:only-of-type {\n",
       "        vertical-align: middle;\n",
       "    }\n",
       "\n",
       "    .dataframe tbody tr th {\n",
       "        vertical-align: top;\n",
       "    }\n",
       "\n",
       "    .dataframe thead th {\n",
       "        text-align: right;\n",
       "    }\n",
       "</style>\n",
       "<table border=\"1\" class=\"dataframe\">\n",
       "  <thead>\n",
       "    <tr style=\"text-align: right;\">\n",
       "      <th></th>\n",
       "      <th>id</th>\n",
       "      <th>start time</th>\n",
       "      <th>end time</th>\n",
       "      <th>trip duration</th>\n",
       "      <th>start station</th>\n",
       "      <th>end station</th>\n",
       "      <th>user type</th>\n",
       "      <th>gender</th>\n",
       "      <th>birth year</th>\n",
       "    </tr>\n",
       "  </thead>\n",
       "  <tbody>\n",
       "    <tr>\n",
       "      <th>0</th>\n",
       "      <td>1423854</td>\n",
       "      <td>6/23/2017 15:09</td>\n",
       "      <td>6/23/2017 15:14</td>\n",
       "      <td>321</td>\n",
       "      <td>Wood St &amp; Hubbard St</td>\n",
       "      <td>Damen Ave &amp; Chicago Ave</td>\n",
       "      <td>Subscriber</td>\n",
       "      <td>Male</td>\n",
       "      <td>1992.0</td>\n",
       "    </tr>\n",
       "    <tr>\n",
       "      <th>1</th>\n",
       "      <td>955915</td>\n",
       "      <td>5/25/2017 18:19</td>\n",
       "      <td>5/25/2017 18:45</td>\n",
       "      <td>1610</td>\n",
       "      <td>Theater on the Lake</td>\n",
       "      <td>Sheffield Ave &amp; Waveland Ave</td>\n",
       "      <td>Subscriber</td>\n",
       "      <td>Female</td>\n",
       "      <td>1992.0</td>\n",
       "    </tr>\n",
       "    <tr>\n",
       "      <th>2</th>\n",
       "      <td>9031</td>\n",
       "      <td>1/4/2017 8:27</td>\n",
       "      <td>1/4/2017 8:34</td>\n",
       "      <td>416</td>\n",
       "      <td>May St &amp; Taylor St</td>\n",
       "      <td>Wood St &amp; Taylor St</td>\n",
       "      <td>Subscriber</td>\n",
       "      <td>Male</td>\n",
       "      <td>1981.0</td>\n",
       "    </tr>\n",
       "    <tr>\n",
       "      <th>3</th>\n",
       "      <td>304487</td>\n",
       "      <td>3/6/2017 13:49</td>\n",
       "      <td>3/6/2017 13:55</td>\n",
       "      <td>350</td>\n",
       "      <td>Christiana Ave &amp; Lawrence Ave</td>\n",
       "      <td>St. Louis Ave &amp; Balmoral Ave</td>\n",
       "      <td>Subscriber</td>\n",
       "      <td>Male</td>\n",
       "      <td>1986.0</td>\n",
       "    </tr>\n",
       "    <tr>\n",
       "      <th>4</th>\n",
       "      <td>45207</td>\n",
       "      <td>1/17/2017 14:53</td>\n",
       "      <td>1/17/2017 15:02</td>\n",
       "      <td>534</td>\n",
       "      <td>Clark St &amp; Randolph St</td>\n",
       "      <td>Desplaines St &amp; Jackson Blvd</td>\n",
       "      <td>Subscriber</td>\n",
       "      <td>Male</td>\n",
       "      <td>1975.0</td>\n",
       "    </tr>\n",
       "  </tbody>\n",
       "</table>\n",
       "</div>"
      ],
      "text/plain": [
       "        id       start time         end time  trip duration  \\\n",
       "0  1423854  6/23/2017 15:09  6/23/2017 15:14            321   \n",
       "1   955915  5/25/2017 18:19  5/25/2017 18:45           1610   \n",
       "2     9031    1/4/2017 8:27    1/4/2017 8:34            416   \n",
       "3   304487   3/6/2017 13:49   3/6/2017 13:55            350   \n",
       "4    45207  1/17/2017 14:53  1/17/2017 15:02            534   \n",
       "\n",
       "                   start station                   end station   user type  \\\n",
       "0           Wood St & Hubbard St       Damen Ave & Chicago Ave  Subscriber   \n",
       "1            Theater on the Lake  Sheffield Ave & Waveland Ave  Subscriber   \n",
       "2             May St & Taylor St           Wood St & Taylor St  Subscriber   \n",
       "3  Christiana Ave & Lawrence Ave  St. Louis Ave & Balmoral Ave  Subscriber   \n",
       "4         Clark St & Randolph St  Desplaines St & Jackson Blvd  Subscriber   \n",
       "\n",
       "   gender  birth year  \n",
       "0    Male      1992.0  \n",
       "1  Female      1992.0  \n",
       "2    Male      1981.0  \n",
       "3    Male      1986.0  \n",
       "4    Male      1975.0  "
      ]
     },
     "execution_count": 10,
     "metadata": {},
     "output_type": "execute_result"
    }
   ],
   "source": [
    "chicago.head()"
   ]
  },
  {
   "cell_type": "code",
   "execution_count": 11,
   "id": "88e999a6",
   "metadata": {},
   "outputs": [
    {
     "data": {
      "text/html": [
       "<div>\n",
       "<style scoped>\n",
       "    .dataframe tbody tr th:only-of-type {\n",
       "        vertical-align: middle;\n",
       "    }\n",
       "\n",
       "    .dataframe tbody tr th {\n",
       "        vertical-align: top;\n",
       "    }\n",
       "\n",
       "    .dataframe thead th {\n",
       "        text-align: right;\n",
       "    }\n",
       "</style>\n",
       "<table border=\"1\" class=\"dataframe\">\n",
       "  <thead>\n",
       "    <tr style=\"text-align: right;\">\n",
       "      <th></th>\n",
       "      <th>id</th>\n",
       "      <th>start time</th>\n",
       "      <th>end time</th>\n",
       "      <th>trip duration</th>\n",
       "      <th>start station</th>\n",
       "      <th>end station</th>\n",
       "      <th>user type</th>\n",
       "      <th>gender</th>\n",
       "      <th>birth year</th>\n",
       "    </tr>\n",
       "  </thead>\n",
       "  <tbody>\n",
       "    <tr>\n",
       "      <th>0</th>\n",
       "      <td>5688089</td>\n",
       "      <td>6/11/2017 14:55</td>\n",
       "      <td>6/11/2017 15:08</td>\n",
       "      <td>795</td>\n",
       "      <td>Suffolk St &amp; Stanton St</td>\n",
       "      <td>W Broadway &amp; Spring St</td>\n",
       "      <td>Subscriber</td>\n",
       "      <td>Male</td>\n",
       "      <td>1998.0</td>\n",
       "    </tr>\n",
       "    <tr>\n",
       "      <th>1</th>\n",
       "      <td>4096714</td>\n",
       "      <td>5/11/2017 15:30</td>\n",
       "      <td>5/11/2017 15:41</td>\n",
       "      <td>692</td>\n",
       "      <td>Lexington Ave &amp; E 63 St</td>\n",
       "      <td>1 Ave &amp; E 78 St</td>\n",
       "      <td>Subscriber</td>\n",
       "      <td>Male</td>\n",
       "      <td>1981.0</td>\n",
       "    </tr>\n",
       "    <tr>\n",
       "      <th>2</th>\n",
       "      <td>2173887</td>\n",
       "      <td>3/29/2017 13:26</td>\n",
       "      <td>3/29/2017 13:48</td>\n",
       "      <td>1325</td>\n",
       "      <td>1 Pl &amp; Clinton St</td>\n",
       "      <td>Henry St &amp; Degraw St</td>\n",
       "      <td>Subscriber</td>\n",
       "      <td>Male</td>\n",
       "      <td>1987.0</td>\n",
       "    </tr>\n",
       "    <tr>\n",
       "      <th>3</th>\n",
       "      <td>3945638</td>\n",
       "      <td>5/8/2017 19:47</td>\n",
       "      <td>5/8/2017 19:59</td>\n",
       "      <td>703</td>\n",
       "      <td>Barrow St &amp; Hudson St</td>\n",
       "      <td>W 20 St &amp; 8 Ave</td>\n",
       "      <td>Subscriber</td>\n",
       "      <td>Female</td>\n",
       "      <td>1986.0</td>\n",
       "    </tr>\n",
       "    <tr>\n",
       "      <th>4</th>\n",
       "      <td>6208972</td>\n",
       "      <td>6/21/2017 7:49</td>\n",
       "      <td>6/21/2017 7:54</td>\n",
       "      <td>329</td>\n",
       "      <td>1 Ave &amp; E 44 St</td>\n",
       "      <td>E 53 St &amp; 3 Ave</td>\n",
       "      <td>Subscriber</td>\n",
       "      <td>Male</td>\n",
       "      <td>1992.0</td>\n",
       "    </tr>\n",
       "  </tbody>\n",
       "</table>\n",
       "</div>"
      ],
      "text/plain": [
       "        id       start time         end time  trip duration  \\\n",
       "0  5688089  6/11/2017 14:55  6/11/2017 15:08            795   \n",
       "1  4096714  5/11/2017 15:30  5/11/2017 15:41            692   \n",
       "2  2173887  3/29/2017 13:26  3/29/2017 13:48           1325   \n",
       "3  3945638   5/8/2017 19:47   5/8/2017 19:59            703   \n",
       "4  6208972   6/21/2017 7:49   6/21/2017 7:54            329   \n",
       "\n",
       "             start station             end station   user type  gender  \\\n",
       "0  Suffolk St & Stanton St  W Broadway & Spring St  Subscriber    Male   \n",
       "1  Lexington Ave & E 63 St         1 Ave & E 78 St  Subscriber    Male   \n",
       "2        1 Pl & Clinton St    Henry St & Degraw St  Subscriber    Male   \n",
       "3    Barrow St & Hudson St         W 20 St & 8 Ave  Subscriber  Female   \n",
       "4          1 Ave & E 44 St         E 53 St & 3 Ave  Subscriber    Male   \n",
       "\n",
       "   birth year  \n",
       "0      1998.0  \n",
       "1      1981.0  \n",
       "2      1987.0  \n",
       "3      1986.0  \n",
       "4      1992.0  "
      ]
     },
     "execution_count": 11,
     "metadata": {},
     "output_type": "execute_result"
    }
   ],
   "source": [
    "newyork.head()"
   ]
  },
  {
   "cell_type": "code",
   "execution_count": 12,
   "id": "db16f715",
   "metadata": {},
   "outputs": [
    {
     "data": {
      "text/html": [
       "<div>\n",
       "<style scoped>\n",
       "    .dataframe tbody tr th:only-of-type {\n",
       "        vertical-align: middle;\n",
       "    }\n",
       "\n",
       "    .dataframe tbody tr th {\n",
       "        vertical-align: top;\n",
       "    }\n",
       "\n",
       "    .dataframe thead th {\n",
       "        text-align: right;\n",
       "    }\n",
       "</style>\n",
       "<table border=\"1\" class=\"dataframe\">\n",
       "  <thead>\n",
       "    <tr style=\"text-align: right;\">\n",
       "      <th></th>\n",
       "      <th>id</th>\n",
       "      <th>start time</th>\n",
       "      <th>end time</th>\n",
       "      <th>trip duration</th>\n",
       "      <th>start station</th>\n",
       "      <th>end station</th>\n",
       "      <th>user type</th>\n",
       "    </tr>\n",
       "  </thead>\n",
       "  <tbody>\n",
       "    <tr>\n",
       "      <th>0</th>\n",
       "      <td>1621326</td>\n",
       "      <td>2017-06-21 08:36:34</td>\n",
       "      <td>2017-06-21 08:44:43</td>\n",
       "      <td>489.066</td>\n",
       "      <td>14th &amp; Belmont St NW</td>\n",
       "      <td>15th &amp; K St NW</td>\n",
       "      <td>Subscriber</td>\n",
       "    </tr>\n",
       "    <tr>\n",
       "      <th>1</th>\n",
       "      <td>482740</td>\n",
       "      <td>2017-03-11 10:40:00</td>\n",
       "      <td>2017-03-11 10:46:00</td>\n",
       "      <td>402.549</td>\n",
       "      <td>Yuma St &amp; Tenley Circle NW</td>\n",
       "      <td>Connecticut Ave &amp; Yuma St NW</td>\n",
       "      <td>Subscriber</td>\n",
       "    </tr>\n",
       "    <tr>\n",
       "      <th>2</th>\n",
       "      <td>1330037</td>\n",
       "      <td>2017-05-30 01:02:59</td>\n",
       "      <td>2017-05-30 01:13:37</td>\n",
       "      <td>637.251</td>\n",
       "      <td>17th St &amp; Massachusetts Ave NW</td>\n",
       "      <td>5th &amp; K St NW</td>\n",
       "      <td>Subscriber</td>\n",
       "    </tr>\n",
       "    <tr>\n",
       "      <th>3</th>\n",
       "      <td>665458</td>\n",
       "      <td>2017-04-02 07:48:35</td>\n",
       "      <td>2017-04-02 08:19:03</td>\n",
       "      <td>1827.341</td>\n",
       "      <td>Constitution Ave &amp; 2nd St NW/DOL</td>\n",
       "      <td>M St &amp; Pennsylvania Ave NW</td>\n",
       "      <td>Customer</td>\n",
       "    </tr>\n",
       "    <tr>\n",
       "      <th>4</th>\n",
       "      <td>1481135</td>\n",
       "      <td>2017-06-10 08:36:28</td>\n",
       "      <td>2017-06-10 09:02:17</td>\n",
       "      <td>1549.427</td>\n",
       "      <td>Henry Bacon Dr &amp; Lincoln Memorial Circle NW</td>\n",
       "      <td>Maine Ave &amp; 7th St SW</td>\n",
       "      <td>Subscriber</td>\n",
       "    </tr>\n",
       "  </tbody>\n",
       "</table>\n",
       "</div>"
      ],
      "text/plain": [
       "        id           start time             end time  trip duration  \\\n",
       "0  1621326  2017-06-21 08:36:34  2017-06-21 08:44:43        489.066   \n",
       "1   482740  2017-03-11 10:40:00  2017-03-11 10:46:00        402.549   \n",
       "2  1330037  2017-05-30 01:02:59  2017-05-30 01:13:37        637.251   \n",
       "3   665458  2017-04-02 07:48:35  2017-04-02 08:19:03       1827.341   \n",
       "4  1481135  2017-06-10 08:36:28  2017-06-10 09:02:17       1549.427   \n",
       "\n",
       "                                 start station                   end station  \\\n",
       "0                         14th & Belmont St NW                15th & K St NW   \n",
       "1                   Yuma St & Tenley Circle NW  Connecticut Ave & Yuma St NW   \n",
       "2               17th St & Massachusetts Ave NW                 5th & K St NW   \n",
       "3             Constitution Ave & 2nd St NW/DOL    M St & Pennsylvania Ave NW   \n",
       "4  Henry Bacon Dr & Lincoln Memorial Circle NW         Maine Ave & 7th St SW   \n",
       "\n",
       "    user type  \n",
       "0  Subscriber  \n",
       "1  Subscriber  \n",
       "2  Subscriber  \n",
       "3    Customer  \n",
       "4  Subscriber  "
      ]
     },
     "execution_count": 12,
     "metadata": {},
     "output_type": "execute_result"
    }
   ],
   "source": [
    "washington.head()"
   ]
  },
  {
   "cell_type": "code",
   "execution_count": 13,
   "id": "f78cdce9",
   "metadata": {},
   "outputs": [
    {
     "name": "stdout",
     "output_type": "stream",
     "text": [
      "<class 'pandas.core.frame.DataFrame'>\n",
      "RangeIndex: 300000 entries, 0 to 299999\n",
      "Data columns (total 9 columns):\n",
      " #   Column         Non-Null Count   Dtype  \n",
      "---  ------         --------------   -----  \n",
      " 0   id             300000 non-null  int64  \n",
      " 1   start time     300000 non-null  object \n",
      " 2   end time       300000 non-null  object \n",
      " 3   trip duration  300000 non-null  int64  \n",
      " 4   start station  300000 non-null  object \n",
      " 5   end station    300000 non-null  object \n",
      " 6   user type      300000 non-null  object \n",
      " 7   gender         238948 non-null  object \n",
      " 8   birth year     238981 non-null  float64\n",
      "dtypes: float64(1), int64(2), object(6)\n",
      "memory usage: 20.6+ MB\n",
      "Info for chicago is \n",
      " None\n",
      "---------------------------------\n",
      "<class 'pandas.core.frame.DataFrame'>\n",
      "RangeIndex: 300000 entries, 0 to 299999\n",
      "Data columns (total 9 columns):\n",
      " #   Column         Non-Null Count   Dtype  \n",
      "---  ------         --------------   -----  \n",
      " 0   id             300000 non-null  int64  \n",
      " 1   start time     300000 non-null  object \n",
      " 2   end time       300000 non-null  object \n",
      " 3   trip duration  300000 non-null  int64  \n",
      " 4   start station  300000 non-null  object \n",
      " 5   end station    300000 non-null  object \n",
      " 6   user type      299308 non-null  object \n",
      " 7   gender         270791 non-null  object \n",
      " 8   birth year     271780 non-null  float64\n",
      "dtypes: float64(1), int64(2), object(6)\n",
      "memory usage: 20.6+ MB\n",
      "Info for newyork is \n",
      " None\n",
      "---------------------------------\n",
      "<class 'pandas.core.frame.DataFrame'>\n",
      "RangeIndex: 300000 entries, 0 to 299999\n",
      "Data columns (total 7 columns):\n",
      " #   Column         Non-Null Count   Dtype  \n",
      "---  ------         --------------   -----  \n",
      " 0   id             300000 non-null  int64  \n",
      " 1   start time     300000 non-null  object \n",
      " 2   end time       300000 non-null  object \n",
      " 3   trip duration  300000 non-null  float64\n",
      " 4   start station  300000 non-null  object \n",
      " 5   end station    300000 non-null  object \n",
      " 6   user type      300000 non-null  object \n",
      "dtypes: float64(1), int64(1), object(5)\n",
      "memory usage: 16.0+ MB\n",
      "Info for washington is \n",
      " None\n",
      "---------------------------------\n"
     ]
    }
   ],
   "source": [
    "for data, dataname in zip(Data, Dataname):\n",
    "    print(f'Info for {str(dataname)} is \\n {data.info()}')\n",
    "    print('---------------------------------')\n"
   ]
  },
  {
   "cell_type": "code",
   "execution_count": 14,
   "id": "2bf629e6",
   "metadata": {},
   "outputs": [
    {
     "name": "stdout",
     "output_type": "stream",
     "text": [
      "<class 'pandas.core.frame.DataFrame'>\n",
      "RangeIndex: 300000 entries, 0 to 299999\n",
      "Data columns (total 9 columns):\n",
      " #   Column         Non-Null Count   Dtype         \n",
      "---  ------         --------------   -----         \n",
      " 0   id             300000 non-null  int64         \n",
      " 1   start time     300000 non-null  datetime64[ns]\n",
      " 2   end time       300000 non-null  datetime64[ns]\n",
      " 3   trip duration  300000 non-null  int64         \n",
      " 4   start station  300000 non-null  object        \n",
      " 5   end station    300000 non-null  object        \n",
      " 6   user type      300000 non-null  object        \n",
      " 7   gender         238948 non-null  object        \n",
      " 8   birth year     238981 non-null  float64       \n",
      "dtypes: datetime64[ns](2), float64(1), int64(2), object(4)\n",
      "memory usage: 20.6+ MB\n",
      "Convert chicago to datetime: \n",
      "None\n",
      "-----------------\n",
      "<class 'pandas.core.frame.DataFrame'>\n",
      "RangeIndex: 300000 entries, 0 to 299999\n",
      "Data columns (total 9 columns):\n",
      " #   Column         Non-Null Count   Dtype         \n",
      "---  ------         --------------   -----         \n",
      " 0   id             300000 non-null  int64         \n",
      " 1   start time     300000 non-null  datetime64[ns]\n",
      " 2   end time       300000 non-null  datetime64[ns]\n",
      " 3   trip duration  300000 non-null  int64         \n",
      " 4   start station  300000 non-null  object        \n",
      " 5   end station    300000 non-null  object        \n",
      " 6   user type      299308 non-null  object        \n",
      " 7   gender         270791 non-null  object        \n",
      " 8   birth year     271780 non-null  float64       \n",
      "dtypes: datetime64[ns](2), float64(1), int64(2), object(4)\n",
      "memory usage: 20.6+ MB\n",
      "Convert newyork to datetime: \n",
      "None\n",
      "-----------------\n",
      "<class 'pandas.core.frame.DataFrame'>\n",
      "RangeIndex: 300000 entries, 0 to 299999\n",
      "Data columns (total 7 columns):\n",
      " #   Column         Non-Null Count   Dtype         \n",
      "---  ------         --------------   -----         \n",
      " 0   id             300000 non-null  int64         \n",
      " 1   start time     300000 non-null  datetime64[ns]\n",
      " 2   end time       300000 non-null  datetime64[ns]\n",
      " 3   trip duration  300000 non-null  float64       \n",
      " 4   start station  300000 non-null  object        \n",
      " 5   end station    300000 non-null  object        \n",
      " 6   user type      300000 non-null  object        \n",
      "dtypes: datetime64[ns](2), float64(1), int64(1), object(3)\n",
      "memory usage: 16.0+ MB\n",
      "Convert washington to datetime: \n",
      "None\n",
      "-----------------\n"
     ]
    }
   ],
   "source": [
    "# Use DataFrame.apply() to convert multiple columns to datetime\n",
    "\n",
    "for data, dataname in zip(Data, Dataname):\n",
    "    data[['start time', 'end time']] = data[['start time', 'end time']].apply(pd.to_datetime, errors='coerce')             \n",
    "    print(f\"Convert {dataname} to datetime: \\n{data.info()}\")\n",
    "    print(\"-----------------\")"
   ]
  },
  {
   "cell_type": "code",
   "execution_count": 15,
   "id": "74f7e407",
   "metadata": {},
   "outputs": [
    {
     "name": "stdout",
     "output_type": "stream",
     "text": [
      "False    238981\n",
      "True      61019\n",
      "Name: birth year, dtype: int64\n",
      "------------\n",
      "False    238948\n",
      "True      61052\n",
      "Name: gender, dtype: int64\n",
      "\n",
      "*=*=*=*=*=*=*=*=*=*=*=*=*=*\n",
      "\n",
      "False    271780\n",
      "True      28220\n",
      "Name: birth year, dtype: int64\n",
      "------------\n",
      "False    270791\n",
      "True      29209\n",
      "Name: gender, dtype: int64\n",
      "------------\n",
      "False    299308\n",
      "True        692\n",
      "Name: user type, dtype: int64\n"
     ]
    }
   ],
   "source": [
    "chicaBY = Data[0]['birth year'].isna().value_counts()\n",
    "chicaGe = Data[0]['gender'].isna().value_counts()\n",
    "\n",
    "print(chicaBY)\n",
    "print(\"------------\")\n",
    "print(chicaGe)\n",
    "\n",
    "print(\"\\n*=*=*=*=*=*=*=*=*=*=*=*=*=*\\n\")\n",
    "\n",
    "newyoBY = Data[1]['birth year'].isna().value_counts()\n",
    "newyoGe = Data[1]['gender'].isna().value_counts()\n",
    "newyoUT = Data[1]['user type'].isna().value_counts()\n",
    "\n",
    "print(newyoBY)\n",
    "print(\"------------\")\n",
    "print(newyoGe)\n",
    "print(\"------------\")\n",
    "print(newyoUT)\n",
    "\n",
    "#chicago.isna().sum()\n",
    "#sum(chicago['birth year'].isnull())\n",
    "#sum(Data[0]['birth year'].isnull())"
   ]
  },
  {
   "cell_type": "code",
   "execution_count": 16,
   "id": "0bf25362",
   "metadata": {},
   "outputs": [
    {
     "name": "stdout",
     "output_type": "stream",
     "text": [
      "<class 'pandas.core.frame.DataFrame'>\n",
      "RangeIndex: 300000 entries, 0 to 299999\n",
      "Data columns (total 12 columns):\n",
      " #   Column         Non-Null Count   Dtype         \n",
      "---  ------         --------------   -----         \n",
      " 0   id             300000 non-null  int64         \n",
      " 1   start time     300000 non-null  datetime64[ns]\n",
      " 2   end time       300000 non-null  datetime64[ns]\n",
      " 3   trip duration  300000 non-null  int64         \n",
      " 4   start station  300000 non-null  object        \n",
      " 5   end station    300000 non-null  object        \n",
      " 6   user type      300000 non-null  object        \n",
      " 7   gender         238948 non-null  object        \n",
      " 8   birth year     238981 non-null  float64       \n",
      " 9   hour           300000 non-null  int32         \n",
      " 10  day            300000 non-null  object        \n",
      " 11  month          300000 non-null  object        \n",
      "dtypes: datetime64[ns](2), float64(1), int32(1), int64(2), object(6)\n",
      "memory usage: 26.3+ MB\n",
      "None\n",
      "---------------------------\n",
      "<class 'pandas.core.frame.DataFrame'>\n",
      "RangeIndex: 300000 entries, 0 to 299999\n",
      "Data columns (total 12 columns):\n",
      " #   Column         Non-Null Count   Dtype         \n",
      "---  ------         --------------   -----         \n",
      " 0   id             300000 non-null  int64         \n",
      " 1   start time     300000 non-null  datetime64[ns]\n",
      " 2   end time       300000 non-null  datetime64[ns]\n",
      " 3   trip duration  300000 non-null  int64         \n",
      " 4   start station  300000 non-null  object        \n",
      " 5   end station    300000 non-null  object        \n",
      " 6   user type      299308 non-null  object        \n",
      " 7   gender         270791 non-null  object        \n",
      " 8   birth year     271780 non-null  float64       \n",
      " 9   hour           300000 non-null  int32         \n",
      " 10  day            300000 non-null  object        \n",
      " 11  month          300000 non-null  object        \n",
      "dtypes: datetime64[ns](2), float64(1), int32(1), int64(2), object(6)\n",
      "memory usage: 26.3+ MB\n",
      "None\n",
      "---------------------------\n",
      "<class 'pandas.core.frame.DataFrame'>\n",
      "RangeIndex: 300000 entries, 0 to 299999\n",
      "Data columns (total 10 columns):\n",
      " #   Column         Non-Null Count   Dtype         \n",
      "---  ------         --------------   -----         \n",
      " 0   id             300000 non-null  int64         \n",
      " 1   start time     300000 non-null  datetime64[ns]\n",
      " 2   end time       300000 non-null  datetime64[ns]\n",
      " 3   trip duration  300000 non-null  float64       \n",
      " 4   start station  300000 non-null  object        \n",
      " 5   end station    300000 non-null  object        \n",
      " 6   user type      300000 non-null  object        \n",
      " 7   hour           300000 non-null  int32         \n",
      " 8   day            300000 non-null  object        \n",
      " 9   month          300000 non-null  object        \n",
      "dtypes: datetime64[ns](2), float64(1), int32(1), int64(1), object(5)\n",
      "memory usage: 21.7+ MB\n",
      "None\n",
      "---------------------------\n"
     ]
    }
   ],
   "source": [
    "# extract hour, month, day of week and year from strat time to create new column\n",
    "\n",
    "for data in Data:\n",
    "    data['hour'] = data['start time'].dt.strftime('%H').astype(int)\n",
    "    data['day'] = data['start time'].dt.day_name()\n",
    "    data['month'] = data['start time'].dt.month_name()\n",
    "    \n",
    "    print(data.info())\n",
    "    print(\"---------------------------\")\n",
    "    \n",
    "    #data['year'] = pd.DatetimeIndex(data['start time']).year"
   ]
  },
  {
   "cell_type": "code",
   "execution_count": 17,
   "id": "0eb15166",
   "metadata": {},
   "outputs": [
    {
     "data": {
      "text/html": [
       "<div>\n",
       "<style scoped>\n",
       "    .dataframe tbody tr th:only-of-type {\n",
       "        vertical-align: middle;\n",
       "    }\n",
       "\n",
       "    .dataframe tbody tr th {\n",
       "        vertical-align: top;\n",
       "    }\n",
       "\n",
       "    .dataframe thead th {\n",
       "        text-align: right;\n",
       "    }\n",
       "</style>\n",
       "<table border=\"1\" class=\"dataframe\">\n",
       "  <thead>\n",
       "    <tr style=\"text-align: right;\">\n",
       "      <th></th>\n",
       "      <th>id</th>\n",
       "      <th>start time</th>\n",
       "      <th>end time</th>\n",
       "      <th>trip duration</th>\n",
       "      <th>start station</th>\n",
       "      <th>end station</th>\n",
       "      <th>user type</th>\n",
       "      <th>gender</th>\n",
       "      <th>birth year</th>\n",
       "      <th>hour</th>\n",
       "      <th>day</th>\n",
       "      <th>month</th>\n",
       "    </tr>\n",
       "  </thead>\n",
       "  <tbody>\n",
       "    <tr>\n",
       "      <th>0</th>\n",
       "      <td>1423854</td>\n",
       "      <td>2017-06-23 15:09:00</td>\n",
       "      <td>2017-06-23 15:14:00</td>\n",
       "      <td>321</td>\n",
       "      <td>Wood St &amp; Hubbard St</td>\n",
       "      <td>Damen Ave &amp; Chicago Ave</td>\n",
       "      <td>Subscriber</td>\n",
       "      <td>Male</td>\n",
       "      <td>1992.0</td>\n",
       "      <td>15</td>\n",
       "      <td>Friday</td>\n",
       "      <td>June</td>\n",
       "    </tr>\n",
       "    <tr>\n",
       "      <th>1</th>\n",
       "      <td>955915</td>\n",
       "      <td>2017-05-25 18:19:00</td>\n",
       "      <td>2017-05-25 18:45:00</td>\n",
       "      <td>1610</td>\n",
       "      <td>Theater on the Lake</td>\n",
       "      <td>Sheffield Ave &amp; Waveland Ave</td>\n",
       "      <td>Subscriber</td>\n",
       "      <td>Female</td>\n",
       "      <td>1992.0</td>\n",
       "      <td>18</td>\n",
       "      <td>Thursday</td>\n",
       "      <td>May</td>\n",
       "    </tr>\n",
       "    <tr>\n",
       "      <th>2</th>\n",
       "      <td>9031</td>\n",
       "      <td>2017-01-04 08:27:00</td>\n",
       "      <td>2017-01-04 08:34:00</td>\n",
       "      <td>416</td>\n",
       "      <td>May St &amp; Taylor St</td>\n",
       "      <td>Wood St &amp; Taylor St</td>\n",
       "      <td>Subscriber</td>\n",
       "      <td>Male</td>\n",
       "      <td>1981.0</td>\n",
       "      <td>8</td>\n",
       "      <td>Wednesday</td>\n",
       "      <td>January</td>\n",
       "    </tr>\n",
       "    <tr>\n",
       "      <th>3</th>\n",
       "      <td>304487</td>\n",
       "      <td>2017-03-06 13:49:00</td>\n",
       "      <td>2017-03-06 13:55:00</td>\n",
       "      <td>350</td>\n",
       "      <td>Christiana Ave &amp; Lawrence Ave</td>\n",
       "      <td>St. Louis Ave &amp; Balmoral Ave</td>\n",
       "      <td>Subscriber</td>\n",
       "      <td>Male</td>\n",
       "      <td>1986.0</td>\n",
       "      <td>13</td>\n",
       "      <td>Monday</td>\n",
       "      <td>March</td>\n",
       "    </tr>\n",
       "    <tr>\n",
       "      <th>4</th>\n",
       "      <td>45207</td>\n",
       "      <td>2017-01-17 14:53:00</td>\n",
       "      <td>2017-01-17 15:02:00</td>\n",
       "      <td>534</td>\n",
       "      <td>Clark St &amp; Randolph St</td>\n",
       "      <td>Desplaines St &amp; Jackson Blvd</td>\n",
       "      <td>Subscriber</td>\n",
       "      <td>Male</td>\n",
       "      <td>1975.0</td>\n",
       "      <td>14</td>\n",
       "      <td>Tuesday</td>\n",
       "      <td>January</td>\n",
       "    </tr>\n",
       "  </tbody>\n",
       "</table>\n",
       "</div>"
      ],
      "text/plain": [
       "        id          start time            end time  trip duration  \\\n",
       "0  1423854 2017-06-23 15:09:00 2017-06-23 15:14:00            321   \n",
       "1   955915 2017-05-25 18:19:00 2017-05-25 18:45:00           1610   \n",
       "2     9031 2017-01-04 08:27:00 2017-01-04 08:34:00            416   \n",
       "3   304487 2017-03-06 13:49:00 2017-03-06 13:55:00            350   \n",
       "4    45207 2017-01-17 14:53:00 2017-01-17 15:02:00            534   \n",
       "\n",
       "                   start station                   end station   user type  \\\n",
       "0           Wood St & Hubbard St       Damen Ave & Chicago Ave  Subscriber   \n",
       "1            Theater on the Lake  Sheffield Ave & Waveland Ave  Subscriber   \n",
       "2             May St & Taylor St           Wood St & Taylor St  Subscriber   \n",
       "3  Christiana Ave & Lawrence Ave  St. Louis Ave & Balmoral Ave  Subscriber   \n",
       "4         Clark St & Randolph St  Desplaines St & Jackson Blvd  Subscriber   \n",
       "\n",
       "   gender  birth year  hour        day    month  \n",
       "0    Male      1992.0    15     Friday     June  \n",
       "1  Female      1992.0    18   Thursday      May  \n",
       "2    Male      1981.0     8  Wednesday  January  \n",
       "3    Male      1986.0    13     Monday    March  \n",
       "4    Male      1975.0    14    Tuesday  January  "
      ]
     },
     "execution_count": 17,
     "metadata": {},
     "output_type": "execute_result"
    }
   ],
   "source": [
    "chicago = Data[0]\n",
    "chicago.head()"
   ]
  },
  {
   "cell_type": "code",
   "execution_count": 18,
   "id": "ceff2449",
   "metadata": {},
   "outputs": [
    {
     "data": {
      "text/html": [
       "<div>\n",
       "<style scoped>\n",
       "    .dataframe tbody tr th:only-of-type {\n",
       "        vertical-align: middle;\n",
       "    }\n",
       "\n",
       "    .dataframe tbody tr th {\n",
       "        vertical-align: top;\n",
       "    }\n",
       "\n",
       "    .dataframe thead th {\n",
       "        text-align: right;\n",
       "    }\n",
       "</style>\n",
       "<table border=\"1\" class=\"dataframe\">\n",
       "  <thead>\n",
       "    <tr style=\"text-align: right;\">\n",
       "      <th></th>\n",
       "      <th>id</th>\n",
       "      <th>start time</th>\n",
       "      <th>end time</th>\n",
       "      <th>trip duration</th>\n",
       "      <th>start station</th>\n",
       "      <th>end station</th>\n",
       "      <th>user type</th>\n",
       "      <th>gender</th>\n",
       "      <th>birth year</th>\n",
       "      <th>hour</th>\n",
       "      <th>day</th>\n",
       "      <th>month</th>\n",
       "    </tr>\n",
       "  </thead>\n",
       "  <tbody>\n",
       "    <tr>\n",
       "      <th>0</th>\n",
       "      <td>5688089</td>\n",
       "      <td>2017-06-11 14:55:00</td>\n",
       "      <td>2017-06-11 15:08:00</td>\n",
       "      <td>795</td>\n",
       "      <td>Suffolk St &amp; Stanton St</td>\n",
       "      <td>W Broadway &amp; Spring St</td>\n",
       "      <td>Subscriber</td>\n",
       "      <td>Male</td>\n",
       "      <td>1998.0</td>\n",
       "      <td>14</td>\n",
       "      <td>Sunday</td>\n",
       "      <td>June</td>\n",
       "    </tr>\n",
       "    <tr>\n",
       "      <th>1</th>\n",
       "      <td>4096714</td>\n",
       "      <td>2017-05-11 15:30:00</td>\n",
       "      <td>2017-05-11 15:41:00</td>\n",
       "      <td>692</td>\n",
       "      <td>Lexington Ave &amp; E 63 St</td>\n",
       "      <td>1 Ave &amp; E 78 St</td>\n",
       "      <td>Subscriber</td>\n",
       "      <td>Male</td>\n",
       "      <td>1981.0</td>\n",
       "      <td>15</td>\n",
       "      <td>Thursday</td>\n",
       "      <td>May</td>\n",
       "    </tr>\n",
       "    <tr>\n",
       "      <th>2</th>\n",
       "      <td>2173887</td>\n",
       "      <td>2017-03-29 13:26:00</td>\n",
       "      <td>2017-03-29 13:48:00</td>\n",
       "      <td>1325</td>\n",
       "      <td>1 Pl &amp; Clinton St</td>\n",
       "      <td>Henry St &amp; Degraw St</td>\n",
       "      <td>Subscriber</td>\n",
       "      <td>Male</td>\n",
       "      <td>1987.0</td>\n",
       "      <td>13</td>\n",
       "      <td>Wednesday</td>\n",
       "      <td>March</td>\n",
       "    </tr>\n",
       "    <tr>\n",
       "      <th>3</th>\n",
       "      <td>3945638</td>\n",
       "      <td>2017-05-08 19:47:00</td>\n",
       "      <td>2017-05-08 19:59:00</td>\n",
       "      <td>703</td>\n",
       "      <td>Barrow St &amp; Hudson St</td>\n",
       "      <td>W 20 St &amp; 8 Ave</td>\n",
       "      <td>Subscriber</td>\n",
       "      <td>Female</td>\n",
       "      <td>1986.0</td>\n",
       "      <td>19</td>\n",
       "      <td>Monday</td>\n",
       "      <td>May</td>\n",
       "    </tr>\n",
       "    <tr>\n",
       "      <th>4</th>\n",
       "      <td>6208972</td>\n",
       "      <td>2017-06-21 07:49:00</td>\n",
       "      <td>2017-06-21 07:54:00</td>\n",
       "      <td>329</td>\n",
       "      <td>1 Ave &amp; E 44 St</td>\n",
       "      <td>E 53 St &amp; 3 Ave</td>\n",
       "      <td>Subscriber</td>\n",
       "      <td>Male</td>\n",
       "      <td>1992.0</td>\n",
       "      <td>7</td>\n",
       "      <td>Wednesday</td>\n",
       "      <td>June</td>\n",
       "    </tr>\n",
       "  </tbody>\n",
       "</table>\n",
       "</div>"
      ],
      "text/plain": [
       "        id          start time            end time  trip duration  \\\n",
       "0  5688089 2017-06-11 14:55:00 2017-06-11 15:08:00            795   \n",
       "1  4096714 2017-05-11 15:30:00 2017-05-11 15:41:00            692   \n",
       "2  2173887 2017-03-29 13:26:00 2017-03-29 13:48:00           1325   \n",
       "3  3945638 2017-05-08 19:47:00 2017-05-08 19:59:00            703   \n",
       "4  6208972 2017-06-21 07:49:00 2017-06-21 07:54:00            329   \n",
       "\n",
       "             start station             end station   user type  gender  \\\n",
       "0  Suffolk St & Stanton St  W Broadway & Spring St  Subscriber    Male   \n",
       "1  Lexington Ave & E 63 St         1 Ave & E 78 St  Subscriber    Male   \n",
       "2        1 Pl & Clinton St    Henry St & Degraw St  Subscriber    Male   \n",
       "3    Barrow St & Hudson St         W 20 St & 8 Ave  Subscriber  Female   \n",
       "4          1 Ave & E 44 St         E 53 St & 3 Ave  Subscriber    Male   \n",
       "\n",
       "   birth year  hour        day  month  \n",
       "0      1998.0    14     Sunday   June  \n",
       "1      1981.0    15   Thursday    May  \n",
       "2      1987.0    13  Wednesday  March  \n",
       "3      1986.0    19     Monday    May  \n",
       "4      1992.0     7  Wednesday   June  "
      ]
     },
     "execution_count": 18,
     "metadata": {},
     "output_type": "execute_result"
    }
   ],
   "source": [
    "newyork = Data[1]\n",
    "newyork.head()"
   ]
  },
  {
   "cell_type": "code",
   "execution_count": 19,
   "id": "a1983123",
   "metadata": {},
   "outputs": [
    {
     "data": {
      "text/html": [
       "<div>\n",
       "<style scoped>\n",
       "    .dataframe tbody tr th:only-of-type {\n",
       "        vertical-align: middle;\n",
       "    }\n",
       "\n",
       "    .dataframe tbody tr th {\n",
       "        vertical-align: top;\n",
       "    }\n",
       "\n",
       "    .dataframe thead th {\n",
       "        text-align: right;\n",
       "    }\n",
       "</style>\n",
       "<table border=\"1\" class=\"dataframe\">\n",
       "  <thead>\n",
       "    <tr style=\"text-align: right;\">\n",
       "      <th></th>\n",
       "      <th>id</th>\n",
       "      <th>start time</th>\n",
       "      <th>end time</th>\n",
       "      <th>trip duration</th>\n",
       "      <th>start station</th>\n",
       "      <th>end station</th>\n",
       "      <th>user type</th>\n",
       "      <th>hour</th>\n",
       "      <th>day</th>\n",
       "      <th>month</th>\n",
       "    </tr>\n",
       "  </thead>\n",
       "  <tbody>\n",
       "    <tr>\n",
       "      <th>0</th>\n",
       "      <td>1621326</td>\n",
       "      <td>2017-06-21 08:36:34</td>\n",
       "      <td>2017-06-21 08:44:43</td>\n",
       "      <td>489.066</td>\n",
       "      <td>14th &amp; Belmont St NW</td>\n",
       "      <td>15th &amp; K St NW</td>\n",
       "      <td>Subscriber</td>\n",
       "      <td>8</td>\n",
       "      <td>Wednesday</td>\n",
       "      <td>June</td>\n",
       "    </tr>\n",
       "    <tr>\n",
       "      <th>1</th>\n",
       "      <td>482740</td>\n",
       "      <td>2017-03-11 10:40:00</td>\n",
       "      <td>2017-03-11 10:46:00</td>\n",
       "      <td>402.549</td>\n",
       "      <td>Yuma St &amp; Tenley Circle NW</td>\n",
       "      <td>Connecticut Ave &amp; Yuma St NW</td>\n",
       "      <td>Subscriber</td>\n",
       "      <td>10</td>\n",
       "      <td>Saturday</td>\n",
       "      <td>March</td>\n",
       "    </tr>\n",
       "    <tr>\n",
       "      <th>2</th>\n",
       "      <td>1330037</td>\n",
       "      <td>2017-05-30 01:02:59</td>\n",
       "      <td>2017-05-30 01:13:37</td>\n",
       "      <td>637.251</td>\n",
       "      <td>17th St &amp; Massachusetts Ave NW</td>\n",
       "      <td>5th &amp; K St NW</td>\n",
       "      <td>Subscriber</td>\n",
       "      <td>1</td>\n",
       "      <td>Tuesday</td>\n",
       "      <td>May</td>\n",
       "    </tr>\n",
       "    <tr>\n",
       "      <th>3</th>\n",
       "      <td>665458</td>\n",
       "      <td>2017-04-02 07:48:35</td>\n",
       "      <td>2017-04-02 08:19:03</td>\n",
       "      <td>1827.341</td>\n",
       "      <td>Constitution Ave &amp; 2nd St NW/DOL</td>\n",
       "      <td>M St &amp; Pennsylvania Ave NW</td>\n",
       "      <td>Customer</td>\n",
       "      <td>7</td>\n",
       "      <td>Sunday</td>\n",
       "      <td>April</td>\n",
       "    </tr>\n",
       "    <tr>\n",
       "      <th>4</th>\n",
       "      <td>1481135</td>\n",
       "      <td>2017-06-10 08:36:28</td>\n",
       "      <td>2017-06-10 09:02:17</td>\n",
       "      <td>1549.427</td>\n",
       "      <td>Henry Bacon Dr &amp; Lincoln Memorial Circle NW</td>\n",
       "      <td>Maine Ave &amp; 7th St SW</td>\n",
       "      <td>Subscriber</td>\n",
       "      <td>8</td>\n",
       "      <td>Saturday</td>\n",
       "      <td>June</td>\n",
       "    </tr>\n",
       "  </tbody>\n",
       "</table>\n",
       "</div>"
      ],
      "text/plain": [
       "        id          start time            end time  trip duration  \\\n",
       "0  1621326 2017-06-21 08:36:34 2017-06-21 08:44:43        489.066   \n",
       "1   482740 2017-03-11 10:40:00 2017-03-11 10:46:00        402.549   \n",
       "2  1330037 2017-05-30 01:02:59 2017-05-30 01:13:37        637.251   \n",
       "3   665458 2017-04-02 07:48:35 2017-04-02 08:19:03       1827.341   \n",
       "4  1481135 2017-06-10 08:36:28 2017-06-10 09:02:17       1549.427   \n",
       "\n",
       "                                 start station                   end station  \\\n",
       "0                         14th & Belmont St NW                15th & K St NW   \n",
       "1                   Yuma St & Tenley Circle NW  Connecticut Ave & Yuma St NW   \n",
       "2               17th St & Massachusetts Ave NW                 5th & K St NW   \n",
       "3             Constitution Ave & 2nd St NW/DOL    M St & Pennsylvania Ave NW   \n",
       "4  Henry Bacon Dr & Lincoln Memorial Circle NW         Maine Ave & 7th St SW   \n",
       "\n",
       "    user type  hour        day  month  \n",
       "0  Subscriber     8  Wednesday   June  \n",
       "1  Subscriber    10   Saturday  March  \n",
       "2  Subscriber     1    Tuesday    May  \n",
       "3    Customer     7     Sunday  April  \n",
       "4  Subscriber     8   Saturday   June  "
      ]
     },
     "execution_count": 19,
     "metadata": {},
     "output_type": "execute_result"
    }
   ],
   "source": [
    "washington = Data[2]\n",
    "washington.head()"
   ]
  },
  {
   "cell_type": "code",
   "execution_count": 20,
   "id": "cd21783d",
   "metadata": {},
   "outputs": [
    {
     "data": {
      "text/html": [
       "<div>\n",
       "<style scoped>\n",
       "    .dataframe tbody tr th:only-of-type {\n",
       "        vertical-align: middle;\n",
       "    }\n",
       "\n",
       "    .dataframe tbody tr th {\n",
       "        vertical-align: top;\n",
       "    }\n",
       "\n",
       "    .dataframe thead th {\n",
       "        text-align: right;\n",
       "    }\n",
       "</style>\n",
       "<table border=\"1\" class=\"dataframe\">\n",
       "  <thead>\n",
       "    <tr style=\"text-align: right;\">\n",
       "      <th></th>\n",
       "      <th>id</th>\n",
       "      <th>start time</th>\n",
       "      <th>end time</th>\n",
       "      <th>trip duration</th>\n",
       "      <th>start station</th>\n",
       "      <th>end station</th>\n",
       "      <th>user type</th>\n",
       "      <th>gender</th>\n",
       "      <th>birth year</th>\n",
       "      <th>hour</th>\n",
       "      <th>day</th>\n",
       "      <th>month</th>\n",
       "    </tr>\n",
       "  </thead>\n",
       "  <tbody>\n",
       "    <tr>\n",
       "      <th>0</th>\n",
       "      <td>1423854</td>\n",
       "      <td>2017-06-23 15:09:00</td>\n",
       "      <td>2017-06-23 15:14:00</td>\n",
       "      <td>321</td>\n",
       "      <td>Wood St &amp; Hubbard St</td>\n",
       "      <td>Damen Ave &amp; Chicago Ave</td>\n",
       "      <td>Subscriber</td>\n",
       "      <td>Male</td>\n",
       "      <td>1992.0</td>\n",
       "      <td>15</td>\n",
       "      <td>Friday</td>\n",
       "      <td>June</td>\n",
       "    </tr>\n",
       "    <tr>\n",
       "      <th>1</th>\n",
       "      <td>955915</td>\n",
       "      <td>2017-05-25 18:19:00</td>\n",
       "      <td>2017-05-25 18:45:00</td>\n",
       "      <td>1610</td>\n",
       "      <td>Theater on the Lake</td>\n",
       "      <td>Sheffield Ave &amp; Waveland Ave</td>\n",
       "      <td>Subscriber</td>\n",
       "      <td>Female</td>\n",
       "      <td>1992.0</td>\n",
       "      <td>18</td>\n",
       "      <td>Thursday</td>\n",
       "      <td>May</td>\n",
       "    </tr>\n",
       "    <tr>\n",
       "      <th>2</th>\n",
       "      <td>9031</td>\n",
       "      <td>2017-01-04 08:27:00</td>\n",
       "      <td>2017-01-04 08:34:00</td>\n",
       "      <td>416</td>\n",
       "      <td>May St &amp; Taylor St</td>\n",
       "      <td>Wood St &amp; Taylor St</td>\n",
       "      <td>Subscriber</td>\n",
       "      <td>Male</td>\n",
       "      <td>1981.0</td>\n",
       "      <td>8</td>\n",
       "      <td>Wednesday</td>\n",
       "      <td>January</td>\n",
       "    </tr>\n",
       "    <tr>\n",
       "      <th>3</th>\n",
       "      <td>304487</td>\n",
       "      <td>2017-03-06 13:49:00</td>\n",
       "      <td>2017-03-06 13:55:00</td>\n",
       "      <td>350</td>\n",
       "      <td>Christiana Ave &amp; Lawrence Ave</td>\n",
       "      <td>St. Louis Ave &amp; Balmoral Ave</td>\n",
       "      <td>Subscriber</td>\n",
       "      <td>Male</td>\n",
       "      <td>1986.0</td>\n",
       "      <td>13</td>\n",
       "      <td>Monday</td>\n",
       "      <td>March</td>\n",
       "    </tr>\n",
       "    <tr>\n",
       "      <th>4</th>\n",
       "      <td>45207</td>\n",
       "      <td>2017-01-17 14:53:00</td>\n",
       "      <td>2017-01-17 15:02:00</td>\n",
       "      <td>534</td>\n",
       "      <td>Clark St &amp; Randolph St</td>\n",
       "      <td>Desplaines St &amp; Jackson Blvd</td>\n",
       "      <td>Subscriber</td>\n",
       "      <td>Male</td>\n",
       "      <td>1975.0</td>\n",
       "      <td>14</td>\n",
       "      <td>Tuesday</td>\n",
       "      <td>January</td>\n",
       "    </tr>\n",
       "  </tbody>\n",
       "</table>\n",
       "</div>"
      ],
      "text/plain": [
       "        id          start time            end time  trip duration  \\\n",
       "0  1423854 2017-06-23 15:09:00 2017-06-23 15:14:00            321   \n",
       "1   955915 2017-05-25 18:19:00 2017-05-25 18:45:00           1610   \n",
       "2     9031 2017-01-04 08:27:00 2017-01-04 08:34:00            416   \n",
       "3   304487 2017-03-06 13:49:00 2017-03-06 13:55:00            350   \n",
       "4    45207 2017-01-17 14:53:00 2017-01-17 15:02:00            534   \n",
       "\n",
       "                   start station                   end station   user type  \\\n",
       "0           Wood St & Hubbard St       Damen Ave & Chicago Ave  Subscriber   \n",
       "1            Theater on the Lake  Sheffield Ave & Waveland Ave  Subscriber   \n",
       "2             May St & Taylor St           Wood St & Taylor St  Subscriber   \n",
       "3  Christiana Ave & Lawrence Ave  St. Louis Ave & Balmoral Ave  Subscriber   \n",
       "4         Clark St & Randolph St  Desplaines St & Jackson Blvd  Subscriber   \n",
       "\n",
       "   gender  birth year  hour        day    month  \n",
       "0    Male      1992.0    15     Friday     June  \n",
       "1  Female      1992.0    18   Thursday      May  \n",
       "2    Male      1981.0     8  Wednesday  January  \n",
       "3    Male      1986.0    13     Monday    March  \n",
       "4    Male      1975.0    14    Tuesday  January  "
      ]
     },
     "execution_count": 20,
     "metadata": {},
     "output_type": "execute_result"
    }
   ],
   "source": [
    "chicago.head()"
   ]
  },
  {
   "cell_type": "code",
   "execution_count": 21,
   "id": "40f4f948",
   "metadata": {},
   "outputs": [
    {
     "data": {
      "text/html": [
       "<div>\n",
       "<style scoped>\n",
       "    .dataframe tbody tr th:only-of-type {\n",
       "        vertical-align: middle;\n",
       "    }\n",
       "\n",
       "    .dataframe tbody tr th {\n",
       "        vertical-align: top;\n",
       "    }\n",
       "\n",
       "    .dataframe thead th {\n",
       "        text-align: right;\n",
       "    }\n",
       "</style>\n",
       "<table border=\"1\" class=\"dataframe\">\n",
       "  <thead>\n",
       "    <tr style=\"text-align: right;\">\n",
       "      <th></th>\n",
       "      <th>id</th>\n",
       "      <th>start time</th>\n",
       "      <th>end time</th>\n",
       "      <th>trip duration</th>\n",
       "      <th>start station</th>\n",
       "      <th>end station</th>\n",
       "      <th>user type</th>\n",
       "      <th>gender</th>\n",
       "      <th>birth year</th>\n",
       "      <th>hour</th>\n",
       "      <th>day</th>\n",
       "      <th>month</th>\n",
       "    </tr>\n",
       "  </thead>\n",
       "  <tbody>\n",
       "    <tr>\n",
       "      <th>0</th>\n",
       "      <td>5688089</td>\n",
       "      <td>2017-06-11 14:55:00</td>\n",
       "      <td>2017-06-11 15:08:00</td>\n",
       "      <td>795</td>\n",
       "      <td>Suffolk St &amp; Stanton St</td>\n",
       "      <td>W Broadway &amp; Spring St</td>\n",
       "      <td>Subscriber</td>\n",
       "      <td>Male</td>\n",
       "      <td>1998.0</td>\n",
       "      <td>14</td>\n",
       "      <td>Sunday</td>\n",
       "      <td>June</td>\n",
       "    </tr>\n",
       "    <tr>\n",
       "      <th>1</th>\n",
       "      <td>4096714</td>\n",
       "      <td>2017-05-11 15:30:00</td>\n",
       "      <td>2017-05-11 15:41:00</td>\n",
       "      <td>692</td>\n",
       "      <td>Lexington Ave &amp; E 63 St</td>\n",
       "      <td>1 Ave &amp; E 78 St</td>\n",
       "      <td>Subscriber</td>\n",
       "      <td>Male</td>\n",
       "      <td>1981.0</td>\n",
       "      <td>15</td>\n",
       "      <td>Thursday</td>\n",
       "      <td>May</td>\n",
       "    </tr>\n",
       "    <tr>\n",
       "      <th>2</th>\n",
       "      <td>2173887</td>\n",
       "      <td>2017-03-29 13:26:00</td>\n",
       "      <td>2017-03-29 13:48:00</td>\n",
       "      <td>1325</td>\n",
       "      <td>1 Pl &amp; Clinton St</td>\n",
       "      <td>Henry St &amp; Degraw St</td>\n",
       "      <td>Subscriber</td>\n",
       "      <td>Male</td>\n",
       "      <td>1987.0</td>\n",
       "      <td>13</td>\n",
       "      <td>Wednesday</td>\n",
       "      <td>March</td>\n",
       "    </tr>\n",
       "    <tr>\n",
       "      <th>3</th>\n",
       "      <td>3945638</td>\n",
       "      <td>2017-05-08 19:47:00</td>\n",
       "      <td>2017-05-08 19:59:00</td>\n",
       "      <td>703</td>\n",
       "      <td>Barrow St &amp; Hudson St</td>\n",
       "      <td>W 20 St &amp; 8 Ave</td>\n",
       "      <td>Subscriber</td>\n",
       "      <td>Female</td>\n",
       "      <td>1986.0</td>\n",
       "      <td>19</td>\n",
       "      <td>Monday</td>\n",
       "      <td>May</td>\n",
       "    </tr>\n",
       "    <tr>\n",
       "      <th>4</th>\n",
       "      <td>6208972</td>\n",
       "      <td>2017-06-21 07:49:00</td>\n",
       "      <td>2017-06-21 07:54:00</td>\n",
       "      <td>329</td>\n",
       "      <td>1 Ave &amp; E 44 St</td>\n",
       "      <td>E 53 St &amp; 3 Ave</td>\n",
       "      <td>Subscriber</td>\n",
       "      <td>Male</td>\n",
       "      <td>1992.0</td>\n",
       "      <td>7</td>\n",
       "      <td>Wednesday</td>\n",
       "      <td>June</td>\n",
       "    </tr>\n",
       "  </tbody>\n",
       "</table>\n",
       "</div>"
      ],
      "text/plain": [
       "        id          start time            end time  trip duration  \\\n",
       "0  5688089 2017-06-11 14:55:00 2017-06-11 15:08:00            795   \n",
       "1  4096714 2017-05-11 15:30:00 2017-05-11 15:41:00            692   \n",
       "2  2173887 2017-03-29 13:26:00 2017-03-29 13:48:00           1325   \n",
       "3  3945638 2017-05-08 19:47:00 2017-05-08 19:59:00            703   \n",
       "4  6208972 2017-06-21 07:49:00 2017-06-21 07:54:00            329   \n",
       "\n",
       "             start station             end station   user type  gender  \\\n",
       "0  Suffolk St & Stanton St  W Broadway & Spring St  Subscriber    Male   \n",
       "1  Lexington Ave & E 63 St         1 Ave & E 78 St  Subscriber    Male   \n",
       "2        1 Pl & Clinton St    Henry St & Degraw St  Subscriber    Male   \n",
       "3    Barrow St & Hudson St         W 20 St & 8 Ave  Subscriber  Female   \n",
       "4          1 Ave & E 44 St         E 53 St & 3 Ave  Subscriber    Male   \n",
       "\n",
       "   birth year  hour        day  month  \n",
       "0      1998.0    14     Sunday   June  \n",
       "1      1981.0    15   Thursday    May  \n",
       "2      1987.0    13  Wednesday  March  \n",
       "3      1986.0    19     Monday    May  \n",
       "4      1992.0     7  Wednesday   June  "
      ]
     },
     "execution_count": 21,
     "metadata": {},
     "output_type": "execute_result"
    }
   ],
   "source": [
    "newyork.head()"
   ]
  },
  {
   "cell_type": "code",
   "execution_count": 22,
   "id": "83b8961c",
   "metadata": {},
   "outputs": [
    {
     "data": {
      "text/plain": [
       "1989.0    14666\n",
       "1988.0    12490\n",
       "1991.0    12397\n",
       "1990.0    12378\n",
       "1987.0    11939\n",
       "          ...  \n",
       "2003.0        2\n",
       "1938.0        2\n",
       "1909.0        2\n",
       "2004.0        1\n",
       "1931.0        1\n",
       "Name: birth year, Length: 79, dtype: int64"
      ]
     },
     "execution_count": 22,
     "metadata": {},
     "output_type": "execute_result"
    }
   ],
   "source": [
    "chicago['birth year'].value_counts()"
   ]
  },
  {
   "cell_type": "code",
   "execution_count": 23,
   "id": "cf28d4b4",
   "metadata": {},
   "outputs": [
    {
     "data": {
      "text/plain": [
       "2016.0"
      ]
     },
     "execution_count": 23,
     "metadata": {},
     "output_type": "execute_result"
    }
   ],
   "source": [
    "chicago['birth year'].max()"
   ]
  },
  {
   "cell_type": "code",
   "execution_count": 24,
   "id": "cd9c1ba7",
   "metadata": {},
   "outputs": [
    {
     "data": {
      "text/plain": [
       "20.339666666666666"
      ]
     },
     "execution_count": 24,
     "metadata": {},
     "output_type": "execute_result"
    }
   ],
   "source": [
    "# we need to know the ratio to the whole data in chicago\n",
    "chicagoBY = (61019 * 100) / 300000\n",
    "chicagoBY"
   ]
  },
  {
   "cell_type": "code",
   "execution_count": 25,
   "id": "b54f39bf",
   "metadata": {},
   "outputs": [
    {
     "data": {
      "text/html": [
       "<div>\n",
       "<style scoped>\n",
       "    .dataframe tbody tr th:only-of-type {\n",
       "        vertical-align: middle;\n",
       "    }\n",
       "\n",
       "    .dataframe tbody tr th {\n",
       "        vertical-align: top;\n",
       "    }\n",
       "\n",
       "    .dataframe thead th {\n",
       "        text-align: right;\n",
       "    }\n",
       "</style>\n",
       "<table border=\"1\" class=\"dataframe\">\n",
       "  <thead>\n",
       "    <tr style=\"text-align: right;\">\n",
       "      <th></th>\n",
       "      <th>id</th>\n",
       "      <th>start time</th>\n",
       "      <th>end time</th>\n",
       "      <th>trip duration</th>\n",
       "      <th>start station</th>\n",
       "      <th>end station</th>\n",
       "      <th>user type</th>\n",
       "      <th>gender</th>\n",
       "      <th>birth year</th>\n",
       "      <th>hour</th>\n",
       "      <th>day</th>\n",
       "      <th>month</th>\n",
       "    </tr>\n",
       "  </thead>\n",
       "  <tbody>\n",
       "    <tr>\n",
       "      <th>299995</th>\n",
       "      <td>64825</td>\n",
       "      <td>2017-01-21 13:18:00</td>\n",
       "      <td>2017-01-21 13:27:00</td>\n",
       "      <td>590</td>\n",
       "      <td>Orleans St &amp; Elm St (*)</td>\n",
       "      <td>Sheffield Ave &amp; Webster Ave</td>\n",
       "      <td>Subscriber</td>\n",
       "      <td>Male</td>\n",
       "      <td>1965.0</td>\n",
       "      <td>13</td>\n",
       "      <td>Saturday</td>\n",
       "      <td>January</td>\n",
       "    </tr>\n",
       "    <tr>\n",
       "      <th>299996</th>\n",
       "      <td>695993</td>\n",
       "      <td>2017-04-28 19:32:00</td>\n",
       "      <td>2017-04-28 19:51:00</td>\n",
       "      <td>1139</td>\n",
       "      <td>Ashland Ave &amp; Blackhawk St</td>\n",
       "      <td>Clark St &amp; Elm St</td>\n",
       "      <td>Customer</td>\n",
       "      <td>NaN</td>\n",
       "      <td>NaN</td>\n",
       "      <td>19</td>\n",
       "      <td>Friday</td>\n",
       "      <td>April</td>\n",
       "    </tr>\n",
       "    <tr>\n",
       "      <th>299997</th>\n",
       "      <td>159685</td>\n",
       "      <td>2017-02-12 09:59:00</td>\n",
       "      <td>2017-02-12 10:21:00</td>\n",
       "      <td>1368</td>\n",
       "      <td>Ravenswood Ave &amp; Lawrence Ave</td>\n",
       "      <td>Stockton Dr &amp; Wrightwood Ave</td>\n",
       "      <td>Subscriber</td>\n",
       "      <td>Female</td>\n",
       "      <td>1988.0</td>\n",
       "      <td>9</td>\n",
       "      <td>Sunday</td>\n",
       "      <td>February</td>\n",
       "    </tr>\n",
       "    <tr>\n",
       "      <th>299998</th>\n",
       "      <td>564681</td>\n",
       "      <td>2017-04-16 17:07:00</td>\n",
       "      <td>2017-04-16 17:19:00</td>\n",
       "      <td>705</td>\n",
       "      <td>Sheffield Ave &amp; Willow St</td>\n",
       "      <td>Clark St &amp; Chicago Ave</td>\n",
       "      <td>Customer</td>\n",
       "      <td>NaN</td>\n",
       "      <td>NaN</td>\n",
       "      <td>17</td>\n",
       "      <td>Sunday</td>\n",
       "      <td>April</td>\n",
       "    </tr>\n",
       "    <tr>\n",
       "      <th>299999</th>\n",
       "      <td>1021247</td>\n",
       "      <td>2017-05-30 12:38:00</td>\n",
       "      <td>2017-05-30 12:55:00</td>\n",
       "      <td>1028</td>\n",
       "      <td>Wacker Dr &amp; Washington St</td>\n",
       "      <td>Damen Ave &amp; Division St</td>\n",
       "      <td>Subscriber</td>\n",
       "      <td>Male</td>\n",
       "      <td>1984.0</td>\n",
       "      <td>12</td>\n",
       "      <td>Tuesday</td>\n",
       "      <td>May</td>\n",
       "    </tr>\n",
       "  </tbody>\n",
       "</table>\n",
       "</div>"
      ],
      "text/plain": [
       "             id          start time            end time  trip duration  \\\n",
       "299995    64825 2017-01-21 13:18:00 2017-01-21 13:27:00            590   \n",
       "299996   695993 2017-04-28 19:32:00 2017-04-28 19:51:00           1139   \n",
       "299997   159685 2017-02-12 09:59:00 2017-02-12 10:21:00           1368   \n",
       "299998   564681 2017-04-16 17:07:00 2017-04-16 17:19:00            705   \n",
       "299999  1021247 2017-05-30 12:38:00 2017-05-30 12:55:00           1028   \n",
       "\n",
       "                        start station                   end station  \\\n",
       "299995        Orleans St & Elm St (*)   Sheffield Ave & Webster Ave   \n",
       "299996     Ashland Ave & Blackhawk St             Clark St & Elm St   \n",
       "299997  Ravenswood Ave & Lawrence Ave  Stockton Dr & Wrightwood Ave   \n",
       "299998      Sheffield Ave & Willow St        Clark St & Chicago Ave   \n",
       "299999      Wacker Dr & Washington St       Damen Ave & Division St   \n",
       "\n",
       "         user type  gender  birth year  hour       day     month  \n",
       "299995  Subscriber    Male      1965.0    13  Saturday   January  \n",
       "299996    Customer     NaN         NaN    19    Friday     April  \n",
       "299997  Subscriber  Female      1988.0     9    Sunday  February  \n",
       "299998    Customer     NaN         NaN    17    Sunday     April  \n",
       "299999  Subscriber    Male      1984.0    12   Tuesday       May  "
      ]
     },
     "execution_count": 25,
     "metadata": {},
     "output_type": "execute_result"
    }
   ],
   "source": [
    "chicago.tail()"
   ]
  },
  {
   "cell_type": "code",
   "execution_count": 26,
   "id": "94465f79",
   "metadata": {},
   "outputs": [
    {
     "name": "stdout",
     "output_type": "stream",
     "text": [
      "<class 'pandas.core.frame.DataFrame'>\n",
      "RangeIndex: 300000 entries, 0 to 299999\n",
      "Data columns (total 12 columns):\n",
      " #   Column         Non-Null Count   Dtype         \n",
      "---  ------         --------------   -----         \n",
      " 0   id             300000 non-null  int64         \n",
      " 1   start time     300000 non-null  datetime64[ns]\n",
      " 2   end time       300000 non-null  datetime64[ns]\n",
      " 3   trip duration  300000 non-null  int64         \n",
      " 4   start station  300000 non-null  object        \n",
      " 5   end station    300000 non-null  object        \n",
      " 6   user type      300000 non-null  object        \n",
      " 7   gender         238948 non-null  object        \n",
      " 8   birth year     238981 non-null  float64       \n",
      " 9   hour           300000 non-null  int32         \n",
      " 10  day            300000 non-null  object        \n",
      " 11  month          300000 non-null  object        \n",
      "dtypes: datetime64[ns](2), float64(1), int32(1), int64(2), object(6)\n",
      "memory usage: 26.3+ MB\n"
     ]
    }
   ],
   "source": [
    "chicago.info()"
   ]
  },
  {
   "cell_type": "code",
   "execution_count": 27,
   "id": "cd4c3053",
   "metadata": {},
   "outputs": [
    {
     "data": {
      "text/plain": [
       "1989.0    11126\n",
       "1985.0    11006\n",
       "1986.0    10959\n",
       "1988.0    10950\n",
       "1987.0    10839\n",
       "          ...  \n",
       "1918.0        1\n",
       "1930.0        1\n",
       "1907.0        1\n",
       "1921.0        1\n",
       "1888.0        1\n",
       "Name: birth year, Length: 91, dtype: int64"
      ]
     },
     "execution_count": 27,
     "metadata": {},
     "output_type": "execute_result"
    }
   ],
   "source": [
    "newyork['birth year'].value_counts()"
   ]
  },
  {
   "cell_type": "code",
   "execution_count": 28,
   "id": "96fbee9f",
   "metadata": {},
   "outputs": [
    {
     "data": {
      "text/plain": [
       "2001.0"
      ]
     },
     "execution_count": 28,
     "metadata": {},
     "output_type": "execute_result"
    }
   ],
   "source": [
    "newyork['birth year'].max()"
   ]
  },
  {
   "cell_type": "code",
   "execution_count": 29,
   "id": "49ce9c43",
   "metadata": {},
   "outputs": [
    {
     "data": {
      "text/plain": [
       "9.406666666666666"
      ]
     },
     "execution_count": 29,
     "metadata": {},
     "output_type": "execute_result"
    }
   ],
   "source": [
    "# we need to know the ratio to the whole data in chicago\n",
    "newyorkBY = (28220 * 100) / 300000\n",
    "newyorkBY"
   ]
  },
  {
   "cell_type": "code",
   "execution_count": 30,
   "id": "9717b9ff",
   "metadata": {},
   "outputs": [
    {
     "data": {
      "text/html": [
       "<div>\n",
       "<style scoped>\n",
       "    .dataframe tbody tr th:only-of-type {\n",
       "        vertical-align: middle;\n",
       "    }\n",
       "\n",
       "    .dataframe tbody tr th {\n",
       "        vertical-align: top;\n",
       "    }\n",
       "\n",
       "    .dataframe thead th {\n",
       "        text-align: right;\n",
       "    }\n",
       "</style>\n",
       "<table border=\"1\" class=\"dataframe\">\n",
       "  <thead>\n",
       "    <tr style=\"text-align: right;\">\n",
       "      <th></th>\n",
       "      <th>id</th>\n",
       "      <th>start time</th>\n",
       "      <th>end time</th>\n",
       "      <th>trip duration</th>\n",
       "      <th>start station</th>\n",
       "      <th>end station</th>\n",
       "      <th>user type</th>\n",
       "      <th>gender</th>\n",
       "      <th>birth year</th>\n",
       "      <th>hour</th>\n",
       "      <th>day</th>\n",
       "      <th>month</th>\n",
       "    </tr>\n",
       "  </thead>\n",
       "  <tbody>\n",
       "    <tr>\n",
       "      <th>299995</th>\n",
       "      <td>3273600</td>\n",
       "      <td>2017-04-24 17:51:00</td>\n",
       "      <td>2017-04-24 17:59:00</td>\n",
       "      <td>495</td>\n",
       "      <td>W 25 St &amp; 6 Ave</td>\n",
       "      <td>W 38 St &amp; 8 Ave</td>\n",
       "      <td>Subscriber</td>\n",
       "      <td>Male</td>\n",
       "      <td>1977.0</td>\n",
       "      <td>17</td>\n",
       "      <td>Monday</td>\n",
       "      <td>April</td>\n",
       "    </tr>\n",
       "    <tr>\n",
       "      <th>299996</th>\n",
       "      <td>3418509</td>\n",
       "      <td>2017-04-28 12:02:00</td>\n",
       "      <td>2017-04-28 12:19:00</td>\n",
       "      <td>994</td>\n",
       "      <td>W 27 St &amp; 7 Ave</td>\n",
       "      <td>W 52 St &amp; 5 Ave</td>\n",
       "      <td>Subscriber</td>\n",
       "      <td>Male</td>\n",
       "      <td>1967.0</td>\n",
       "      <td>12</td>\n",
       "      <td>Friday</td>\n",
       "      <td>April</td>\n",
       "    </tr>\n",
       "    <tr>\n",
       "      <th>299997</th>\n",
       "      <td>5034995</td>\n",
       "      <td>2017-05-31 09:11:00</td>\n",
       "      <td>2017-05-31 09:24:00</td>\n",
       "      <td>785</td>\n",
       "      <td>3 Ave &amp; E 72 St</td>\n",
       "      <td>W 44 St &amp; 5 Ave</td>\n",
       "      <td>Subscriber</td>\n",
       "      <td>Male</td>\n",
       "      <td>1972.0</td>\n",
       "      <td>9</td>\n",
       "      <td>Wednesday</td>\n",
       "      <td>May</td>\n",
       "    </tr>\n",
       "    <tr>\n",
       "      <th>299998</th>\n",
       "      <td>78227</td>\n",
       "      <td>2017-01-05 08:31:00</td>\n",
       "      <td>2017-01-05 08:51:00</td>\n",
       "      <td>1164</td>\n",
       "      <td>Columbia St &amp; Kane St</td>\n",
       "      <td>Barclay St &amp; Church St</td>\n",
       "      <td>Subscriber</td>\n",
       "      <td>Male</td>\n",
       "      <td>1964.0</td>\n",
       "      <td>8</td>\n",
       "      <td>Thursday</td>\n",
       "      <td>January</td>\n",
       "    </tr>\n",
       "    <tr>\n",
       "      <th>299999</th>\n",
       "      <td>2554332</td>\n",
       "      <td>2017-04-09 17:46:00</td>\n",
       "      <td>2017-04-09 18:06:00</td>\n",
       "      <td>1189</td>\n",
       "      <td>Division St &amp; Bowery</td>\n",
       "      <td>Lafayette St &amp; Jersey St</td>\n",
       "      <td>Subscriber</td>\n",
       "      <td>Female</td>\n",
       "      <td>1985.0</td>\n",
       "      <td>17</td>\n",
       "      <td>Sunday</td>\n",
       "      <td>April</td>\n",
       "    </tr>\n",
       "  </tbody>\n",
       "</table>\n",
       "</div>"
      ],
      "text/plain": [
       "             id          start time            end time  trip duration  \\\n",
       "299995  3273600 2017-04-24 17:51:00 2017-04-24 17:59:00            495   \n",
       "299996  3418509 2017-04-28 12:02:00 2017-04-28 12:19:00            994   \n",
       "299997  5034995 2017-05-31 09:11:00 2017-05-31 09:24:00            785   \n",
       "299998    78227 2017-01-05 08:31:00 2017-01-05 08:51:00           1164   \n",
       "299999  2554332 2017-04-09 17:46:00 2017-04-09 18:06:00           1189   \n",
       "\n",
       "                start station               end station   user type  gender  \\\n",
       "299995        W 25 St & 6 Ave           W 38 St & 8 Ave  Subscriber    Male   \n",
       "299996        W 27 St & 7 Ave           W 52 St & 5 Ave  Subscriber    Male   \n",
       "299997        3 Ave & E 72 St           W 44 St & 5 Ave  Subscriber    Male   \n",
       "299998  Columbia St & Kane St    Barclay St & Church St  Subscriber    Male   \n",
       "299999   Division St & Bowery  Lafayette St & Jersey St  Subscriber  Female   \n",
       "\n",
       "        birth year  hour        day    month  \n",
       "299995      1977.0    17     Monday    April  \n",
       "299996      1967.0    12     Friday    April  \n",
       "299997      1972.0     9  Wednesday      May  \n",
       "299998      1964.0     8   Thursday  January  \n",
       "299999      1985.0    17     Sunday    April  "
      ]
     },
     "execution_count": 30,
     "metadata": {},
     "output_type": "execute_result"
    }
   ],
   "source": [
    "newyork.tail()"
   ]
  },
  {
   "cell_type": "code",
   "execution_count": 31,
   "id": "33c3d973",
   "metadata": {},
   "outputs": [
    {
     "name": "stdout",
     "output_type": "stream",
     "text": [
      "<class 'pandas.core.frame.DataFrame'>\n",
      "RangeIndex: 300000 entries, 0 to 299999\n",
      "Data columns (total 12 columns):\n",
      " #   Column         Non-Null Count   Dtype         \n",
      "---  ------         --------------   -----         \n",
      " 0   id             300000 non-null  int64         \n",
      " 1   start time     300000 non-null  datetime64[ns]\n",
      " 2   end time       300000 non-null  datetime64[ns]\n",
      " 3   trip duration  300000 non-null  int64         \n",
      " 4   start station  300000 non-null  object        \n",
      " 5   end station    300000 non-null  object        \n",
      " 6   user type      299308 non-null  object        \n",
      " 7   gender         270791 non-null  object        \n",
      " 8   birth year     271780 non-null  float64       \n",
      " 9   hour           300000 non-null  int32         \n",
      " 10  day            300000 non-null  object        \n",
      " 11  month          300000 non-null  object        \n",
      "dtypes: datetime64[ns](2), float64(1), int32(1), int64(2), object(6)\n",
      "memory usage: 26.3+ MB\n"
     ]
    }
   ],
   "source": [
    "newyork.info()"
   ]
  },
  {
   "cell_type": "code",
   "execution_count": 32,
   "id": "f2f4437f",
   "metadata": {},
   "outputs": [],
   "source": [
    "chicago.gender = chicago.gender.astype('category')\n",
    "chicago['user type'] = chicago['user type'].astype('category')\n",
    "\n",
    "newyork.gender = newyork.gender.astype('category')\n",
    "newyork['user type'] = newyork['user type'].astype('category')\n",
    "\n",
    "washington['user type'] = washington['user type'].astype('category')\n"
   ]
  },
  {
   "cell_type": "code",
   "execution_count": 33,
   "id": "2c66289a",
   "metadata": {},
   "outputs": [],
   "source": [
    "# extract the time in 12 hour clock to new columns\n",
    "\n",
    "for data in Data:\n",
    "    data['st date'] = data['start time'].dt.date.astype('datetime64')\n",
    "    data['en date'] = data['end time'].dt.date.astype('datetime64')\n",
    "    data['st time'] = data['start time'].dt.strftime('%I:%M:%S')\n",
    "    data['en time'] = data['end time'].dt.strftime('%I:%M:%S')"
   ]
  },
  {
   "cell_type": "code",
   "execution_count": 34,
   "id": "38a274b1",
   "metadata": {},
   "outputs": [
    {
     "data": {
      "text/html": [
       "<div>\n",
       "<style scoped>\n",
       "    .dataframe tbody tr th:only-of-type {\n",
       "        vertical-align: middle;\n",
       "    }\n",
       "\n",
       "    .dataframe tbody tr th {\n",
       "        vertical-align: top;\n",
       "    }\n",
       "\n",
       "    .dataframe thead th {\n",
       "        text-align: right;\n",
       "    }\n",
       "</style>\n",
       "<table border=\"1\" class=\"dataframe\">\n",
       "  <thead>\n",
       "    <tr style=\"text-align: right;\">\n",
       "      <th></th>\n",
       "      <th>id</th>\n",
       "      <th>start time</th>\n",
       "      <th>end time</th>\n",
       "      <th>trip duration</th>\n",
       "      <th>start station</th>\n",
       "      <th>end station</th>\n",
       "      <th>user type</th>\n",
       "      <th>gender</th>\n",
       "      <th>birth year</th>\n",
       "      <th>hour</th>\n",
       "      <th>day</th>\n",
       "      <th>month</th>\n",
       "      <th>st date</th>\n",
       "      <th>en date</th>\n",
       "      <th>st time</th>\n",
       "      <th>en time</th>\n",
       "    </tr>\n",
       "  </thead>\n",
       "  <tbody>\n",
       "    <tr>\n",
       "      <th>0</th>\n",
       "      <td>1423854</td>\n",
       "      <td>2017-06-23 15:09:00</td>\n",
       "      <td>2017-06-23 15:14:00</td>\n",
       "      <td>321</td>\n",
       "      <td>Wood St &amp; Hubbard St</td>\n",
       "      <td>Damen Ave &amp; Chicago Ave</td>\n",
       "      <td>Subscriber</td>\n",
       "      <td>Male</td>\n",
       "      <td>1992.0</td>\n",
       "      <td>15</td>\n",
       "      <td>Friday</td>\n",
       "      <td>June</td>\n",
       "      <td>2017-06-23</td>\n",
       "      <td>2017-06-23</td>\n",
       "      <td>03:09:00</td>\n",
       "      <td>03:14:00</td>\n",
       "    </tr>\n",
       "    <tr>\n",
       "      <th>1</th>\n",
       "      <td>955915</td>\n",
       "      <td>2017-05-25 18:19:00</td>\n",
       "      <td>2017-05-25 18:45:00</td>\n",
       "      <td>1610</td>\n",
       "      <td>Theater on the Lake</td>\n",
       "      <td>Sheffield Ave &amp; Waveland Ave</td>\n",
       "      <td>Subscriber</td>\n",
       "      <td>Female</td>\n",
       "      <td>1992.0</td>\n",
       "      <td>18</td>\n",
       "      <td>Thursday</td>\n",
       "      <td>May</td>\n",
       "      <td>2017-05-25</td>\n",
       "      <td>2017-05-25</td>\n",
       "      <td>06:19:00</td>\n",
       "      <td>06:45:00</td>\n",
       "    </tr>\n",
       "    <tr>\n",
       "      <th>2</th>\n",
       "      <td>9031</td>\n",
       "      <td>2017-01-04 08:27:00</td>\n",
       "      <td>2017-01-04 08:34:00</td>\n",
       "      <td>416</td>\n",
       "      <td>May St &amp; Taylor St</td>\n",
       "      <td>Wood St &amp; Taylor St</td>\n",
       "      <td>Subscriber</td>\n",
       "      <td>Male</td>\n",
       "      <td>1981.0</td>\n",
       "      <td>8</td>\n",
       "      <td>Wednesday</td>\n",
       "      <td>January</td>\n",
       "      <td>2017-01-04</td>\n",
       "      <td>2017-01-04</td>\n",
       "      <td>08:27:00</td>\n",
       "      <td>08:34:00</td>\n",
       "    </tr>\n",
       "    <tr>\n",
       "      <th>3</th>\n",
       "      <td>304487</td>\n",
       "      <td>2017-03-06 13:49:00</td>\n",
       "      <td>2017-03-06 13:55:00</td>\n",
       "      <td>350</td>\n",
       "      <td>Christiana Ave &amp; Lawrence Ave</td>\n",
       "      <td>St. Louis Ave &amp; Balmoral Ave</td>\n",
       "      <td>Subscriber</td>\n",
       "      <td>Male</td>\n",
       "      <td>1986.0</td>\n",
       "      <td>13</td>\n",
       "      <td>Monday</td>\n",
       "      <td>March</td>\n",
       "      <td>2017-03-06</td>\n",
       "      <td>2017-03-06</td>\n",
       "      <td>01:49:00</td>\n",
       "      <td>01:55:00</td>\n",
       "    </tr>\n",
       "    <tr>\n",
       "      <th>4</th>\n",
       "      <td>45207</td>\n",
       "      <td>2017-01-17 14:53:00</td>\n",
       "      <td>2017-01-17 15:02:00</td>\n",
       "      <td>534</td>\n",
       "      <td>Clark St &amp; Randolph St</td>\n",
       "      <td>Desplaines St &amp; Jackson Blvd</td>\n",
       "      <td>Subscriber</td>\n",
       "      <td>Male</td>\n",
       "      <td>1975.0</td>\n",
       "      <td>14</td>\n",
       "      <td>Tuesday</td>\n",
       "      <td>January</td>\n",
       "      <td>2017-01-17</td>\n",
       "      <td>2017-01-17</td>\n",
       "      <td>02:53:00</td>\n",
       "      <td>03:02:00</td>\n",
       "    </tr>\n",
       "  </tbody>\n",
       "</table>\n",
       "</div>"
      ],
      "text/plain": [
       "        id          start time            end time  trip duration  \\\n",
       "0  1423854 2017-06-23 15:09:00 2017-06-23 15:14:00            321   \n",
       "1   955915 2017-05-25 18:19:00 2017-05-25 18:45:00           1610   \n",
       "2     9031 2017-01-04 08:27:00 2017-01-04 08:34:00            416   \n",
       "3   304487 2017-03-06 13:49:00 2017-03-06 13:55:00            350   \n",
       "4    45207 2017-01-17 14:53:00 2017-01-17 15:02:00            534   \n",
       "\n",
       "                   start station                   end station   user type  \\\n",
       "0           Wood St & Hubbard St       Damen Ave & Chicago Ave  Subscriber   \n",
       "1            Theater on the Lake  Sheffield Ave & Waveland Ave  Subscriber   \n",
       "2             May St & Taylor St           Wood St & Taylor St  Subscriber   \n",
       "3  Christiana Ave & Lawrence Ave  St. Louis Ave & Balmoral Ave  Subscriber   \n",
       "4         Clark St & Randolph St  Desplaines St & Jackson Blvd  Subscriber   \n",
       "\n",
       "   gender  birth year  hour        day    month    st date    en date  \\\n",
       "0    Male      1992.0    15     Friday     June 2017-06-23 2017-06-23   \n",
       "1  Female      1992.0    18   Thursday      May 2017-05-25 2017-05-25   \n",
       "2    Male      1981.0     8  Wednesday  January 2017-01-04 2017-01-04   \n",
       "3    Male      1986.0    13     Monday    March 2017-03-06 2017-03-06   \n",
       "4    Male      1975.0    14    Tuesday  January 2017-01-17 2017-01-17   \n",
       "\n",
       "    st time   en time  \n",
       "0  03:09:00  03:14:00  \n",
       "1  06:19:00  06:45:00  \n",
       "2  08:27:00  08:34:00  \n",
       "3  01:49:00  01:55:00  \n",
       "4  02:53:00  03:02:00  "
      ]
     },
     "execution_count": 34,
     "metadata": {},
     "output_type": "execute_result"
    }
   ],
   "source": [
    "chicago.head()"
   ]
  },
  {
   "cell_type": "code",
   "execution_count": 35,
   "id": "543ceaaf",
   "metadata": {},
   "outputs": [
    {
     "name": "stdout",
     "output_type": "stream",
     "text": [
      "<class 'pandas.core.frame.DataFrame'>\n",
      "RangeIndex: 300000 entries, 0 to 299999\n",
      "Data columns (total 16 columns):\n",
      " #   Column         Non-Null Count   Dtype         \n",
      "---  ------         --------------   -----         \n",
      " 0   id             300000 non-null  int64         \n",
      " 1   start time     300000 non-null  datetime64[ns]\n",
      " 2   end time       300000 non-null  datetime64[ns]\n",
      " 3   trip duration  300000 non-null  int64         \n",
      " 4   start station  300000 non-null  object        \n",
      " 5   end station    300000 non-null  object        \n",
      " 6   user type      300000 non-null  category      \n",
      " 7   gender         238948 non-null  category      \n",
      " 8   birth year     238981 non-null  float64       \n",
      " 9   hour           300000 non-null  int32         \n",
      " 10  day            300000 non-null  object        \n",
      " 11  month          300000 non-null  object        \n",
      " 12  st date        300000 non-null  datetime64[ns]\n",
      " 13  en date        300000 non-null  datetime64[ns]\n",
      " 14  st time        300000 non-null  object        \n",
      " 15  en time        300000 non-null  object        \n",
      "dtypes: category(2), datetime64[ns](4), float64(1), int32(1), int64(2), object(6)\n",
      "memory usage: 31.5+ MB\n"
     ]
    }
   ],
   "source": [
    "chicago.info()"
   ]
  },
  {
   "cell_type": "code",
   "execution_count": 36,
   "id": "e3e3715e",
   "metadata": {},
   "outputs": [],
   "source": [
    "# How to drop any Columns\n",
    "\n",
    "#1 chicago.drop(columns =['start time'], inplace=True)\n",
    "#2 chicago.drop(['start time'], axis=1, inplace=True)\n",
    "\n",
    "for data in Data:\n",
    "    data.drop(['start time', 'end time'], axis=1, inplace=True)\n",
    "    "
   ]
  },
  {
   "cell_type": "code",
   "execution_count": 37,
   "id": "e84d134d",
   "metadata": {},
   "outputs": [],
   "source": [
    "for data in Data:\n",
    "    data['st time'] = pd.to_timedelta(data['st time'])\n",
    "    data['en time'] = pd.to_timedelta(data['en time'])\n",
    "    "
   ]
  },
  {
   "cell_type": "code",
   "execution_count": 38,
   "id": "0cb350d7",
   "metadata": {},
   "outputs": [
    {
     "data": {
      "text/html": [
       "<div>\n",
       "<style scoped>\n",
       "    .dataframe tbody tr th:only-of-type {\n",
       "        vertical-align: middle;\n",
       "    }\n",
       "\n",
       "    .dataframe tbody tr th {\n",
       "        vertical-align: top;\n",
       "    }\n",
       "\n",
       "    .dataframe thead th {\n",
       "        text-align: right;\n",
       "    }\n",
       "</style>\n",
       "<table border=\"1\" class=\"dataframe\">\n",
       "  <thead>\n",
       "    <tr style=\"text-align: right;\">\n",
       "      <th></th>\n",
       "      <th>id</th>\n",
       "      <th>trip duration</th>\n",
       "      <th>start station</th>\n",
       "      <th>end station</th>\n",
       "      <th>user type</th>\n",
       "      <th>gender</th>\n",
       "      <th>birth year</th>\n",
       "      <th>hour</th>\n",
       "      <th>day</th>\n",
       "      <th>month</th>\n",
       "      <th>st date</th>\n",
       "      <th>en date</th>\n",
       "      <th>st time</th>\n",
       "      <th>en time</th>\n",
       "    </tr>\n",
       "  </thead>\n",
       "  <tbody>\n",
       "    <tr>\n",
       "      <th>0</th>\n",
       "      <td>1423854</td>\n",
       "      <td>321</td>\n",
       "      <td>Wood St &amp; Hubbard St</td>\n",
       "      <td>Damen Ave &amp; Chicago Ave</td>\n",
       "      <td>Subscriber</td>\n",
       "      <td>Male</td>\n",
       "      <td>1992.0</td>\n",
       "      <td>15</td>\n",
       "      <td>Friday</td>\n",
       "      <td>June</td>\n",
       "      <td>2017-06-23</td>\n",
       "      <td>2017-06-23</td>\n",
       "      <td>0 days 03:09:00</td>\n",
       "      <td>0 days 03:14:00</td>\n",
       "    </tr>\n",
       "    <tr>\n",
       "      <th>1</th>\n",
       "      <td>955915</td>\n",
       "      <td>1610</td>\n",
       "      <td>Theater on the Lake</td>\n",
       "      <td>Sheffield Ave &amp; Waveland Ave</td>\n",
       "      <td>Subscriber</td>\n",
       "      <td>Female</td>\n",
       "      <td>1992.0</td>\n",
       "      <td>18</td>\n",
       "      <td>Thursday</td>\n",
       "      <td>May</td>\n",
       "      <td>2017-05-25</td>\n",
       "      <td>2017-05-25</td>\n",
       "      <td>0 days 06:19:00</td>\n",
       "      <td>0 days 06:45:00</td>\n",
       "    </tr>\n",
       "    <tr>\n",
       "      <th>2</th>\n",
       "      <td>9031</td>\n",
       "      <td>416</td>\n",
       "      <td>May St &amp; Taylor St</td>\n",
       "      <td>Wood St &amp; Taylor St</td>\n",
       "      <td>Subscriber</td>\n",
       "      <td>Male</td>\n",
       "      <td>1981.0</td>\n",
       "      <td>8</td>\n",
       "      <td>Wednesday</td>\n",
       "      <td>January</td>\n",
       "      <td>2017-01-04</td>\n",
       "      <td>2017-01-04</td>\n",
       "      <td>0 days 08:27:00</td>\n",
       "      <td>0 days 08:34:00</td>\n",
       "    </tr>\n",
       "    <tr>\n",
       "      <th>3</th>\n",
       "      <td>304487</td>\n",
       "      <td>350</td>\n",
       "      <td>Christiana Ave &amp; Lawrence Ave</td>\n",
       "      <td>St. Louis Ave &amp; Balmoral Ave</td>\n",
       "      <td>Subscriber</td>\n",
       "      <td>Male</td>\n",
       "      <td>1986.0</td>\n",
       "      <td>13</td>\n",
       "      <td>Monday</td>\n",
       "      <td>March</td>\n",
       "      <td>2017-03-06</td>\n",
       "      <td>2017-03-06</td>\n",
       "      <td>0 days 01:49:00</td>\n",
       "      <td>0 days 01:55:00</td>\n",
       "    </tr>\n",
       "    <tr>\n",
       "      <th>4</th>\n",
       "      <td>45207</td>\n",
       "      <td>534</td>\n",
       "      <td>Clark St &amp; Randolph St</td>\n",
       "      <td>Desplaines St &amp; Jackson Blvd</td>\n",
       "      <td>Subscriber</td>\n",
       "      <td>Male</td>\n",
       "      <td>1975.0</td>\n",
       "      <td>14</td>\n",
       "      <td>Tuesday</td>\n",
       "      <td>January</td>\n",
       "      <td>2017-01-17</td>\n",
       "      <td>2017-01-17</td>\n",
       "      <td>0 days 02:53:00</td>\n",
       "      <td>0 days 03:02:00</td>\n",
       "    </tr>\n",
       "  </tbody>\n",
       "</table>\n",
       "</div>"
      ],
      "text/plain": [
       "        id  trip duration                  start station  \\\n",
       "0  1423854            321           Wood St & Hubbard St   \n",
       "1   955915           1610            Theater on the Lake   \n",
       "2     9031            416             May St & Taylor St   \n",
       "3   304487            350  Christiana Ave & Lawrence Ave   \n",
       "4    45207            534         Clark St & Randolph St   \n",
       "\n",
       "                    end station   user type  gender  birth year  hour  \\\n",
       "0       Damen Ave & Chicago Ave  Subscriber    Male      1992.0    15   \n",
       "1  Sheffield Ave & Waveland Ave  Subscriber  Female      1992.0    18   \n",
       "2           Wood St & Taylor St  Subscriber    Male      1981.0     8   \n",
       "3  St. Louis Ave & Balmoral Ave  Subscriber    Male      1986.0    13   \n",
       "4  Desplaines St & Jackson Blvd  Subscriber    Male      1975.0    14   \n",
       "\n",
       "         day    month    st date    en date         st time         en time  \n",
       "0     Friday     June 2017-06-23 2017-06-23 0 days 03:09:00 0 days 03:14:00  \n",
       "1   Thursday      May 2017-05-25 2017-05-25 0 days 06:19:00 0 days 06:45:00  \n",
       "2  Wednesday  January 2017-01-04 2017-01-04 0 days 08:27:00 0 days 08:34:00  \n",
       "3     Monday    March 2017-03-06 2017-03-06 0 days 01:49:00 0 days 01:55:00  \n",
       "4    Tuesday  January 2017-01-17 2017-01-17 0 days 02:53:00 0 days 03:02:00  "
      ]
     },
     "execution_count": 38,
     "metadata": {},
     "output_type": "execute_result"
    }
   ],
   "source": [
    "chicago.head()"
   ]
  },
  {
   "cell_type": "code",
   "execution_count": 39,
   "id": "bf434fa1",
   "metadata": {},
   "outputs": [],
   "source": [
    "# What is the period of time between start time to end time?\n",
    "\n",
    "for data in Data:\n",
    "    data['period of time'] = data['en time'] - data['st time']\n",
    "    "
   ]
  },
  {
   "cell_type": "code",
   "execution_count": 40,
   "id": "399d1384",
   "metadata": {},
   "outputs": [
    {
     "data": {
      "text/html": [
       "<div>\n",
       "<style scoped>\n",
       "    .dataframe tbody tr th:only-of-type {\n",
       "        vertical-align: middle;\n",
       "    }\n",
       "\n",
       "    .dataframe tbody tr th {\n",
       "        vertical-align: top;\n",
       "    }\n",
       "\n",
       "    .dataframe thead th {\n",
       "        text-align: right;\n",
       "    }\n",
       "</style>\n",
       "<table border=\"1\" class=\"dataframe\">\n",
       "  <thead>\n",
       "    <tr style=\"text-align: right;\">\n",
       "      <th></th>\n",
       "      <th>id</th>\n",
       "      <th>trip duration</th>\n",
       "      <th>start station</th>\n",
       "      <th>end station</th>\n",
       "      <th>user type</th>\n",
       "      <th>gender</th>\n",
       "      <th>birth year</th>\n",
       "      <th>hour</th>\n",
       "      <th>day</th>\n",
       "      <th>month</th>\n",
       "      <th>st date</th>\n",
       "      <th>en date</th>\n",
       "      <th>st time</th>\n",
       "      <th>en time</th>\n",
       "      <th>period of time</th>\n",
       "    </tr>\n",
       "  </thead>\n",
       "  <tbody>\n",
       "    <tr>\n",
       "      <th>0</th>\n",
       "      <td>1423854</td>\n",
       "      <td>321</td>\n",
       "      <td>Wood St &amp; Hubbard St</td>\n",
       "      <td>Damen Ave &amp; Chicago Ave</td>\n",
       "      <td>Subscriber</td>\n",
       "      <td>Male</td>\n",
       "      <td>1992.0</td>\n",
       "      <td>15</td>\n",
       "      <td>Friday</td>\n",
       "      <td>June</td>\n",
       "      <td>2017-06-23</td>\n",
       "      <td>2017-06-23</td>\n",
       "      <td>0 days 03:09:00</td>\n",
       "      <td>0 days 03:14:00</td>\n",
       "      <td>0 days 00:05:00</td>\n",
       "    </tr>\n",
       "    <tr>\n",
       "      <th>1</th>\n",
       "      <td>955915</td>\n",
       "      <td>1610</td>\n",
       "      <td>Theater on the Lake</td>\n",
       "      <td>Sheffield Ave &amp; Waveland Ave</td>\n",
       "      <td>Subscriber</td>\n",
       "      <td>Female</td>\n",
       "      <td>1992.0</td>\n",
       "      <td>18</td>\n",
       "      <td>Thursday</td>\n",
       "      <td>May</td>\n",
       "      <td>2017-05-25</td>\n",
       "      <td>2017-05-25</td>\n",
       "      <td>0 days 06:19:00</td>\n",
       "      <td>0 days 06:45:00</td>\n",
       "      <td>0 days 00:26:00</td>\n",
       "    </tr>\n",
       "    <tr>\n",
       "      <th>2</th>\n",
       "      <td>9031</td>\n",
       "      <td>416</td>\n",
       "      <td>May St &amp; Taylor St</td>\n",
       "      <td>Wood St &amp; Taylor St</td>\n",
       "      <td>Subscriber</td>\n",
       "      <td>Male</td>\n",
       "      <td>1981.0</td>\n",
       "      <td>8</td>\n",
       "      <td>Wednesday</td>\n",
       "      <td>January</td>\n",
       "      <td>2017-01-04</td>\n",
       "      <td>2017-01-04</td>\n",
       "      <td>0 days 08:27:00</td>\n",
       "      <td>0 days 08:34:00</td>\n",
       "      <td>0 days 00:07:00</td>\n",
       "    </tr>\n",
       "    <tr>\n",
       "      <th>3</th>\n",
       "      <td>304487</td>\n",
       "      <td>350</td>\n",
       "      <td>Christiana Ave &amp; Lawrence Ave</td>\n",
       "      <td>St. Louis Ave &amp; Balmoral Ave</td>\n",
       "      <td>Subscriber</td>\n",
       "      <td>Male</td>\n",
       "      <td>1986.0</td>\n",
       "      <td>13</td>\n",
       "      <td>Monday</td>\n",
       "      <td>March</td>\n",
       "      <td>2017-03-06</td>\n",
       "      <td>2017-03-06</td>\n",
       "      <td>0 days 01:49:00</td>\n",
       "      <td>0 days 01:55:00</td>\n",
       "      <td>0 days 00:06:00</td>\n",
       "    </tr>\n",
       "    <tr>\n",
       "      <th>4</th>\n",
       "      <td>45207</td>\n",
       "      <td>534</td>\n",
       "      <td>Clark St &amp; Randolph St</td>\n",
       "      <td>Desplaines St &amp; Jackson Blvd</td>\n",
       "      <td>Subscriber</td>\n",
       "      <td>Male</td>\n",
       "      <td>1975.0</td>\n",
       "      <td>14</td>\n",
       "      <td>Tuesday</td>\n",
       "      <td>January</td>\n",
       "      <td>2017-01-17</td>\n",
       "      <td>2017-01-17</td>\n",
       "      <td>0 days 02:53:00</td>\n",
       "      <td>0 days 03:02:00</td>\n",
       "      <td>0 days 00:09:00</td>\n",
       "    </tr>\n",
       "  </tbody>\n",
       "</table>\n",
       "</div>"
      ],
      "text/plain": [
       "        id  trip duration                  start station  \\\n",
       "0  1423854            321           Wood St & Hubbard St   \n",
       "1   955915           1610            Theater on the Lake   \n",
       "2     9031            416             May St & Taylor St   \n",
       "3   304487            350  Christiana Ave & Lawrence Ave   \n",
       "4    45207            534         Clark St & Randolph St   \n",
       "\n",
       "                    end station   user type  gender  birth year  hour  \\\n",
       "0       Damen Ave & Chicago Ave  Subscriber    Male      1992.0    15   \n",
       "1  Sheffield Ave & Waveland Ave  Subscriber  Female      1992.0    18   \n",
       "2           Wood St & Taylor St  Subscriber    Male      1981.0     8   \n",
       "3  St. Louis Ave & Balmoral Ave  Subscriber    Male      1986.0    13   \n",
       "4  Desplaines St & Jackson Blvd  Subscriber    Male      1975.0    14   \n",
       "\n",
       "         day    month    st date    en date         st time         en time  \\\n",
       "0     Friday     June 2017-06-23 2017-06-23 0 days 03:09:00 0 days 03:14:00   \n",
       "1   Thursday      May 2017-05-25 2017-05-25 0 days 06:19:00 0 days 06:45:00   \n",
       "2  Wednesday  January 2017-01-04 2017-01-04 0 days 08:27:00 0 days 08:34:00   \n",
       "3     Monday    March 2017-03-06 2017-03-06 0 days 01:49:00 0 days 01:55:00   \n",
       "4    Tuesday  January 2017-01-17 2017-01-17 0 days 02:53:00 0 days 03:02:00   \n",
       "\n",
       "   period of time  \n",
       "0 0 days 00:05:00  \n",
       "1 0 days 00:26:00  \n",
       "2 0 days 00:07:00  \n",
       "3 0 days 00:06:00  \n",
       "4 0 days 00:09:00  "
      ]
     },
     "execution_count": 40,
     "metadata": {},
     "output_type": "execute_result"
    }
   ],
   "source": [
    "chicago.head()"
   ]
  },
  {
   "cell_type": "code",
   "execution_count": 41,
   "id": "8f6ba4d5",
   "metadata": {},
   "outputs": [
    {
     "data": {
      "text/html": [
       "<div>\n",
       "<style scoped>\n",
       "    .dataframe tbody tr th:only-of-type {\n",
       "        vertical-align: middle;\n",
       "    }\n",
       "\n",
       "    .dataframe tbody tr th {\n",
       "        vertical-align: top;\n",
       "    }\n",
       "\n",
       "    .dataframe thead th {\n",
       "        text-align: right;\n",
       "    }\n",
       "</style>\n",
       "<table border=\"1\" class=\"dataframe\">\n",
       "  <thead>\n",
       "    <tr style=\"text-align: right;\">\n",
       "      <th></th>\n",
       "      <th>id</th>\n",
       "      <th>trip duration</th>\n",
       "      <th>start station</th>\n",
       "      <th>end station</th>\n",
       "      <th>user type</th>\n",
       "      <th>gender</th>\n",
       "      <th>birth year</th>\n",
       "      <th>hour</th>\n",
       "      <th>day</th>\n",
       "      <th>month</th>\n",
       "      <th>st date</th>\n",
       "      <th>en date</th>\n",
       "      <th>st time</th>\n",
       "      <th>en time</th>\n",
       "      <th>period of time</th>\n",
       "    </tr>\n",
       "  </thead>\n",
       "  <tbody>\n",
       "    <tr>\n",
       "      <th>0</th>\n",
       "      <td>5688089</td>\n",
       "      <td>795</td>\n",
       "      <td>Suffolk St &amp; Stanton St</td>\n",
       "      <td>W Broadway &amp; Spring St</td>\n",
       "      <td>Subscriber</td>\n",
       "      <td>Male</td>\n",
       "      <td>1998.0</td>\n",
       "      <td>14</td>\n",
       "      <td>Sunday</td>\n",
       "      <td>June</td>\n",
       "      <td>2017-06-11</td>\n",
       "      <td>2017-06-11</td>\n",
       "      <td>0 days 02:55:00</td>\n",
       "      <td>0 days 03:08:00</td>\n",
       "      <td>0 days 00:13:00</td>\n",
       "    </tr>\n",
       "    <tr>\n",
       "      <th>1</th>\n",
       "      <td>4096714</td>\n",
       "      <td>692</td>\n",
       "      <td>Lexington Ave &amp; E 63 St</td>\n",
       "      <td>1 Ave &amp; E 78 St</td>\n",
       "      <td>Subscriber</td>\n",
       "      <td>Male</td>\n",
       "      <td>1981.0</td>\n",
       "      <td>15</td>\n",
       "      <td>Thursday</td>\n",
       "      <td>May</td>\n",
       "      <td>2017-05-11</td>\n",
       "      <td>2017-05-11</td>\n",
       "      <td>0 days 03:30:00</td>\n",
       "      <td>0 days 03:41:00</td>\n",
       "      <td>0 days 00:11:00</td>\n",
       "    </tr>\n",
       "    <tr>\n",
       "      <th>2</th>\n",
       "      <td>2173887</td>\n",
       "      <td>1325</td>\n",
       "      <td>1 Pl &amp; Clinton St</td>\n",
       "      <td>Henry St &amp; Degraw St</td>\n",
       "      <td>Subscriber</td>\n",
       "      <td>Male</td>\n",
       "      <td>1987.0</td>\n",
       "      <td>13</td>\n",
       "      <td>Wednesday</td>\n",
       "      <td>March</td>\n",
       "      <td>2017-03-29</td>\n",
       "      <td>2017-03-29</td>\n",
       "      <td>0 days 01:26:00</td>\n",
       "      <td>0 days 01:48:00</td>\n",
       "      <td>0 days 00:22:00</td>\n",
       "    </tr>\n",
       "    <tr>\n",
       "      <th>3</th>\n",
       "      <td>3945638</td>\n",
       "      <td>703</td>\n",
       "      <td>Barrow St &amp; Hudson St</td>\n",
       "      <td>W 20 St &amp; 8 Ave</td>\n",
       "      <td>Subscriber</td>\n",
       "      <td>Female</td>\n",
       "      <td>1986.0</td>\n",
       "      <td>19</td>\n",
       "      <td>Monday</td>\n",
       "      <td>May</td>\n",
       "      <td>2017-05-08</td>\n",
       "      <td>2017-05-08</td>\n",
       "      <td>0 days 07:47:00</td>\n",
       "      <td>0 days 07:59:00</td>\n",
       "      <td>0 days 00:12:00</td>\n",
       "    </tr>\n",
       "    <tr>\n",
       "      <th>4</th>\n",
       "      <td>6208972</td>\n",
       "      <td>329</td>\n",
       "      <td>1 Ave &amp; E 44 St</td>\n",
       "      <td>E 53 St &amp; 3 Ave</td>\n",
       "      <td>Subscriber</td>\n",
       "      <td>Male</td>\n",
       "      <td>1992.0</td>\n",
       "      <td>7</td>\n",
       "      <td>Wednesday</td>\n",
       "      <td>June</td>\n",
       "      <td>2017-06-21</td>\n",
       "      <td>2017-06-21</td>\n",
       "      <td>0 days 07:49:00</td>\n",
       "      <td>0 days 07:54:00</td>\n",
       "      <td>0 days 00:05:00</td>\n",
       "    </tr>\n",
       "  </tbody>\n",
       "</table>\n",
       "</div>"
      ],
      "text/plain": [
       "        id  trip duration            start station             end station  \\\n",
       "0  5688089            795  Suffolk St & Stanton St  W Broadway & Spring St   \n",
       "1  4096714            692  Lexington Ave & E 63 St         1 Ave & E 78 St   \n",
       "2  2173887           1325        1 Pl & Clinton St    Henry St & Degraw St   \n",
       "3  3945638            703    Barrow St & Hudson St         W 20 St & 8 Ave   \n",
       "4  6208972            329          1 Ave & E 44 St         E 53 St & 3 Ave   \n",
       "\n",
       "    user type  gender  birth year  hour        day  month    st date  \\\n",
       "0  Subscriber    Male      1998.0    14     Sunday   June 2017-06-11   \n",
       "1  Subscriber    Male      1981.0    15   Thursday    May 2017-05-11   \n",
       "2  Subscriber    Male      1987.0    13  Wednesday  March 2017-03-29   \n",
       "3  Subscriber  Female      1986.0    19     Monday    May 2017-05-08   \n",
       "4  Subscriber    Male      1992.0     7  Wednesday   June 2017-06-21   \n",
       "\n",
       "     en date         st time         en time  period of time  \n",
       "0 2017-06-11 0 days 02:55:00 0 days 03:08:00 0 days 00:13:00  \n",
       "1 2017-05-11 0 days 03:30:00 0 days 03:41:00 0 days 00:11:00  \n",
       "2 2017-03-29 0 days 01:26:00 0 days 01:48:00 0 days 00:22:00  \n",
       "3 2017-05-08 0 days 07:47:00 0 days 07:59:00 0 days 00:12:00  \n",
       "4 2017-06-21 0 days 07:49:00 0 days 07:54:00 0 days 00:05:00  "
      ]
     },
     "execution_count": 41,
     "metadata": {},
     "output_type": "execute_result"
    }
   ],
   "source": [
    "newyork.head()"
   ]
  },
  {
   "cell_type": "code",
   "execution_count": 42,
   "id": "387213a5",
   "metadata": {},
   "outputs": [
    {
     "data": {
      "text/html": [
       "<div>\n",
       "<style scoped>\n",
       "    .dataframe tbody tr th:only-of-type {\n",
       "        vertical-align: middle;\n",
       "    }\n",
       "\n",
       "    .dataframe tbody tr th {\n",
       "        vertical-align: top;\n",
       "    }\n",
       "\n",
       "    .dataframe thead th {\n",
       "        text-align: right;\n",
       "    }\n",
       "</style>\n",
       "<table border=\"1\" class=\"dataframe\">\n",
       "  <thead>\n",
       "    <tr style=\"text-align: right;\">\n",
       "      <th></th>\n",
       "      <th>id</th>\n",
       "      <th>trip duration</th>\n",
       "      <th>start station</th>\n",
       "      <th>end station</th>\n",
       "      <th>user type</th>\n",
       "      <th>hour</th>\n",
       "      <th>day</th>\n",
       "      <th>month</th>\n",
       "      <th>st date</th>\n",
       "      <th>en date</th>\n",
       "      <th>st time</th>\n",
       "      <th>en time</th>\n",
       "      <th>period of time</th>\n",
       "    </tr>\n",
       "  </thead>\n",
       "  <tbody>\n",
       "    <tr>\n",
       "      <th>0</th>\n",
       "      <td>1621326</td>\n",
       "      <td>489.066</td>\n",
       "      <td>14th &amp; Belmont St NW</td>\n",
       "      <td>15th &amp; K St NW</td>\n",
       "      <td>Subscriber</td>\n",
       "      <td>8</td>\n",
       "      <td>Wednesday</td>\n",
       "      <td>June</td>\n",
       "      <td>2017-06-21</td>\n",
       "      <td>2017-06-21</td>\n",
       "      <td>0 days 08:36:34</td>\n",
       "      <td>0 days 08:44:43</td>\n",
       "      <td>0 days 00:08:09</td>\n",
       "    </tr>\n",
       "    <tr>\n",
       "      <th>1</th>\n",
       "      <td>482740</td>\n",
       "      <td>402.549</td>\n",
       "      <td>Yuma St &amp; Tenley Circle NW</td>\n",
       "      <td>Connecticut Ave &amp; Yuma St NW</td>\n",
       "      <td>Subscriber</td>\n",
       "      <td>10</td>\n",
       "      <td>Saturday</td>\n",
       "      <td>March</td>\n",
       "      <td>2017-03-11</td>\n",
       "      <td>2017-03-11</td>\n",
       "      <td>0 days 10:40:00</td>\n",
       "      <td>0 days 10:46:00</td>\n",
       "      <td>0 days 00:06:00</td>\n",
       "    </tr>\n",
       "    <tr>\n",
       "      <th>2</th>\n",
       "      <td>1330037</td>\n",
       "      <td>637.251</td>\n",
       "      <td>17th St &amp; Massachusetts Ave NW</td>\n",
       "      <td>5th &amp; K St NW</td>\n",
       "      <td>Subscriber</td>\n",
       "      <td>1</td>\n",
       "      <td>Tuesday</td>\n",
       "      <td>May</td>\n",
       "      <td>2017-05-30</td>\n",
       "      <td>2017-05-30</td>\n",
       "      <td>0 days 01:02:59</td>\n",
       "      <td>0 days 01:13:37</td>\n",
       "      <td>0 days 00:10:38</td>\n",
       "    </tr>\n",
       "    <tr>\n",
       "      <th>3</th>\n",
       "      <td>665458</td>\n",
       "      <td>1827.341</td>\n",
       "      <td>Constitution Ave &amp; 2nd St NW/DOL</td>\n",
       "      <td>M St &amp; Pennsylvania Ave NW</td>\n",
       "      <td>Customer</td>\n",
       "      <td>7</td>\n",
       "      <td>Sunday</td>\n",
       "      <td>April</td>\n",
       "      <td>2017-04-02</td>\n",
       "      <td>2017-04-02</td>\n",
       "      <td>0 days 07:48:35</td>\n",
       "      <td>0 days 08:19:03</td>\n",
       "      <td>0 days 00:30:28</td>\n",
       "    </tr>\n",
       "    <tr>\n",
       "      <th>4</th>\n",
       "      <td>1481135</td>\n",
       "      <td>1549.427</td>\n",
       "      <td>Henry Bacon Dr &amp; Lincoln Memorial Circle NW</td>\n",
       "      <td>Maine Ave &amp; 7th St SW</td>\n",
       "      <td>Subscriber</td>\n",
       "      <td>8</td>\n",
       "      <td>Saturday</td>\n",
       "      <td>June</td>\n",
       "      <td>2017-06-10</td>\n",
       "      <td>2017-06-10</td>\n",
       "      <td>0 days 08:36:28</td>\n",
       "      <td>0 days 09:02:17</td>\n",
       "      <td>0 days 00:25:49</td>\n",
       "    </tr>\n",
       "  </tbody>\n",
       "</table>\n",
       "</div>"
      ],
      "text/plain": [
       "        id  trip duration                                start station  \\\n",
       "0  1621326        489.066                         14th & Belmont St NW   \n",
       "1   482740        402.549                   Yuma St & Tenley Circle NW   \n",
       "2  1330037        637.251               17th St & Massachusetts Ave NW   \n",
       "3   665458       1827.341             Constitution Ave & 2nd St NW/DOL   \n",
       "4  1481135       1549.427  Henry Bacon Dr & Lincoln Memorial Circle NW   \n",
       "\n",
       "                    end station   user type  hour        day  month  \\\n",
       "0                15th & K St NW  Subscriber     8  Wednesday   June   \n",
       "1  Connecticut Ave & Yuma St NW  Subscriber    10   Saturday  March   \n",
       "2                 5th & K St NW  Subscriber     1    Tuesday    May   \n",
       "3    M St & Pennsylvania Ave NW    Customer     7     Sunday  April   \n",
       "4         Maine Ave & 7th St SW  Subscriber     8   Saturday   June   \n",
       "\n",
       "     st date    en date         st time         en time  period of time  \n",
       "0 2017-06-21 2017-06-21 0 days 08:36:34 0 days 08:44:43 0 days 00:08:09  \n",
       "1 2017-03-11 2017-03-11 0 days 10:40:00 0 days 10:46:00 0 days 00:06:00  \n",
       "2 2017-05-30 2017-05-30 0 days 01:02:59 0 days 01:13:37 0 days 00:10:38  \n",
       "3 2017-04-02 2017-04-02 0 days 07:48:35 0 days 08:19:03 0 days 00:30:28  \n",
       "4 2017-06-10 2017-06-10 0 days 08:36:28 0 days 09:02:17 0 days 00:25:49  "
      ]
     },
     "execution_count": 42,
     "metadata": {},
     "output_type": "execute_result"
    }
   ],
   "source": [
    "washington.head()"
   ]
  },
  {
   "cell_type": "code",
   "execution_count": 43,
   "id": "f1cbde2a",
   "metadata": {},
   "outputs": [
    {
     "data": {
      "text/html": [
       "<div>\n",
       "<style scoped>\n",
       "    .dataframe tbody tr th:only-of-type {\n",
       "        vertical-align: middle;\n",
       "    }\n",
       "\n",
       "    .dataframe tbody tr th {\n",
       "        vertical-align: top;\n",
       "    }\n",
       "\n",
       "    .dataframe thead th {\n",
       "        text-align: right;\n",
       "    }\n",
       "</style>\n",
       "<table border=\"1\" class=\"dataframe\">\n",
       "  <thead>\n",
       "    <tr style=\"text-align: right;\">\n",
       "      <th></th>\n",
       "      <th>id</th>\n",
       "      <th>trip duration</th>\n",
       "      <th>start station</th>\n",
       "      <th>end station</th>\n",
       "      <th>user type</th>\n",
       "      <th>hour</th>\n",
       "      <th>day</th>\n",
       "      <th>month</th>\n",
       "      <th>st date</th>\n",
       "      <th>en date</th>\n",
       "      <th>st time</th>\n",
       "      <th>en time</th>\n",
       "      <th>period of time</th>\n",
       "    </tr>\n",
       "  </thead>\n",
       "  <tbody>\n",
       "    <tr>\n",
       "      <th>0</th>\n",
       "      <td>1621326</td>\n",
       "      <td>489</td>\n",
       "      <td>14th &amp; Belmont St NW</td>\n",
       "      <td>15th &amp; K St NW</td>\n",
       "      <td>Subscriber</td>\n",
       "      <td>8</td>\n",
       "      <td>Wednesday</td>\n",
       "      <td>June</td>\n",
       "      <td>2017-06-21</td>\n",
       "      <td>2017-06-21</td>\n",
       "      <td>0 days 08:36:34</td>\n",
       "      <td>0 days 08:44:43</td>\n",
       "      <td>0 days 00:08:09</td>\n",
       "    </tr>\n",
       "    <tr>\n",
       "      <th>1</th>\n",
       "      <td>482740</td>\n",
       "      <td>402</td>\n",
       "      <td>Yuma St &amp; Tenley Circle NW</td>\n",
       "      <td>Connecticut Ave &amp; Yuma St NW</td>\n",
       "      <td>Subscriber</td>\n",
       "      <td>10</td>\n",
       "      <td>Saturday</td>\n",
       "      <td>March</td>\n",
       "      <td>2017-03-11</td>\n",
       "      <td>2017-03-11</td>\n",
       "      <td>0 days 10:40:00</td>\n",
       "      <td>0 days 10:46:00</td>\n",
       "      <td>0 days 00:06:00</td>\n",
       "    </tr>\n",
       "    <tr>\n",
       "      <th>2</th>\n",
       "      <td>1330037</td>\n",
       "      <td>637</td>\n",
       "      <td>17th St &amp; Massachusetts Ave NW</td>\n",
       "      <td>5th &amp; K St NW</td>\n",
       "      <td>Subscriber</td>\n",
       "      <td>1</td>\n",
       "      <td>Tuesday</td>\n",
       "      <td>May</td>\n",
       "      <td>2017-05-30</td>\n",
       "      <td>2017-05-30</td>\n",
       "      <td>0 days 01:02:59</td>\n",
       "      <td>0 days 01:13:37</td>\n",
       "      <td>0 days 00:10:38</td>\n",
       "    </tr>\n",
       "    <tr>\n",
       "      <th>3</th>\n",
       "      <td>665458</td>\n",
       "      <td>1827</td>\n",
       "      <td>Constitution Ave &amp; 2nd St NW/DOL</td>\n",
       "      <td>M St &amp; Pennsylvania Ave NW</td>\n",
       "      <td>Customer</td>\n",
       "      <td>7</td>\n",
       "      <td>Sunday</td>\n",
       "      <td>April</td>\n",
       "      <td>2017-04-02</td>\n",
       "      <td>2017-04-02</td>\n",
       "      <td>0 days 07:48:35</td>\n",
       "      <td>0 days 08:19:03</td>\n",
       "      <td>0 days 00:30:28</td>\n",
       "    </tr>\n",
       "    <tr>\n",
       "      <th>4</th>\n",
       "      <td>1481135</td>\n",
       "      <td>1549</td>\n",
       "      <td>Henry Bacon Dr &amp; Lincoln Memorial Circle NW</td>\n",
       "      <td>Maine Ave &amp; 7th St SW</td>\n",
       "      <td>Subscriber</td>\n",
       "      <td>8</td>\n",
       "      <td>Saturday</td>\n",
       "      <td>June</td>\n",
       "      <td>2017-06-10</td>\n",
       "      <td>2017-06-10</td>\n",
       "      <td>0 days 08:36:28</td>\n",
       "      <td>0 days 09:02:17</td>\n",
       "      <td>0 days 00:25:49</td>\n",
       "    </tr>\n",
       "  </tbody>\n",
       "</table>\n",
       "</div>"
      ],
      "text/plain": [
       "        id  trip duration                                start station  \\\n",
       "0  1621326            489                         14th & Belmont St NW   \n",
       "1   482740            402                   Yuma St & Tenley Circle NW   \n",
       "2  1330037            637               17th St & Massachusetts Ave NW   \n",
       "3   665458           1827             Constitution Ave & 2nd St NW/DOL   \n",
       "4  1481135           1549  Henry Bacon Dr & Lincoln Memorial Circle NW   \n",
       "\n",
       "                    end station   user type  hour        day  month  \\\n",
       "0                15th & K St NW  Subscriber     8  Wednesday   June   \n",
       "1  Connecticut Ave & Yuma St NW  Subscriber    10   Saturday  March   \n",
       "2                 5th & K St NW  Subscriber     1    Tuesday    May   \n",
       "3    M St & Pennsylvania Ave NW    Customer     7     Sunday  April   \n",
       "4         Maine Ave & 7th St SW  Subscriber     8   Saturday   June   \n",
       "\n",
       "     st date    en date         st time         en time  period of time  \n",
       "0 2017-06-21 2017-06-21 0 days 08:36:34 0 days 08:44:43 0 days 00:08:09  \n",
       "1 2017-03-11 2017-03-11 0 days 10:40:00 0 days 10:46:00 0 days 00:06:00  \n",
       "2 2017-05-30 2017-05-30 0 days 01:02:59 0 days 01:13:37 0 days 00:10:38  \n",
       "3 2017-04-02 2017-04-02 0 days 07:48:35 0 days 08:19:03 0 days 00:30:28  \n",
       "4 2017-06-10 2017-06-10 0 days 08:36:28 0 days 09:02:17 0 days 00:25:49  "
      ]
     },
     "execution_count": 43,
     "metadata": {},
     "output_type": "execute_result"
    }
   ],
   "source": [
    "washington['trip duration'] = washington['trip duration'].astype(int)\n",
    "washington.head()\n"
   ]
  },
  {
   "cell_type": "code",
   "execution_count": 44,
   "id": "58a3390a",
   "metadata": {},
   "outputs": [
    {
     "name": "stdout",
     "output_type": "stream",
     "text": [
      "The Null Values for chicago is \n",
      "id                    0\n",
      "trip duration         0\n",
      "start station         0\n",
      "end station           0\n",
      "user type             0\n",
      "gender            61052\n",
      "birth year        61019\n",
      "hour                  0\n",
      "day                   0\n",
      "month                 0\n",
      "st date               0\n",
      "en date               0\n",
      "st time               0\n",
      "en time               0\n",
      "period of time        0\n",
      "dtype: int64\n",
      "---------------------------------\n",
      "The Null Values for newyork is \n",
      "id                    0\n",
      "trip duration         0\n",
      "start station         0\n",
      "end station           0\n",
      "user type           692\n",
      "gender            29209\n",
      "birth year        28220\n",
      "hour                  0\n",
      "day                   0\n",
      "month                 0\n",
      "st date               0\n",
      "en date               0\n",
      "st time               0\n",
      "en time               0\n",
      "period of time        0\n",
      "dtype: int64\n",
      "---------------------------------\n",
      "The Null Values for washington is \n",
      "id                0\n",
      "trip duration     0\n",
      "start station     0\n",
      "end station       0\n",
      "user type         0\n",
      "hour              0\n",
      "day               0\n",
      "month             0\n",
      "st date           0\n",
      "en date           0\n",
      "st time           0\n",
      "en time           0\n",
      "period of time    0\n",
      "dtype: int64\n",
      "---------------------------------\n"
     ]
    }
   ],
   "source": [
    "for data, dataname in zip(Data, Dataname):\n",
    "    print(f'The Null Values for {str(dataname)} is \\n{data.isna().sum()}')\n",
    "    print('---------------------------------')\n",
    "    "
   ]
  },
  {
   "cell_type": "code",
   "execution_count": 45,
   "id": "e54595d9",
   "metadata": {},
   "outputs": [],
   "source": [
    "for data in Data:\n",
    "    data = data.set_index('id', inplace=True)\n",
    "    "
   ]
  },
  {
   "cell_type": "code",
   "execution_count": 46,
   "id": "f23af23f",
   "metadata": {},
   "outputs": [
    {
     "data": {
      "text/html": [
       "<div>\n",
       "<style scoped>\n",
       "    .dataframe tbody tr th:only-of-type {\n",
       "        vertical-align: middle;\n",
       "    }\n",
       "\n",
       "    .dataframe tbody tr th {\n",
       "        vertical-align: top;\n",
       "    }\n",
       "\n",
       "    .dataframe thead th {\n",
       "        text-align: right;\n",
       "    }\n",
       "</style>\n",
       "<table border=\"1\" class=\"dataframe\">\n",
       "  <thead>\n",
       "    <tr style=\"text-align: right;\">\n",
       "      <th></th>\n",
       "      <th>trip duration</th>\n",
       "      <th>start station</th>\n",
       "      <th>end station</th>\n",
       "      <th>user type</th>\n",
       "      <th>gender</th>\n",
       "      <th>birth year</th>\n",
       "      <th>hour</th>\n",
       "      <th>day</th>\n",
       "      <th>month</th>\n",
       "      <th>st date</th>\n",
       "      <th>en date</th>\n",
       "      <th>st time</th>\n",
       "      <th>en time</th>\n",
       "      <th>period of time</th>\n",
       "    </tr>\n",
       "    <tr>\n",
       "      <th>id</th>\n",
       "      <th></th>\n",
       "      <th></th>\n",
       "      <th></th>\n",
       "      <th></th>\n",
       "      <th></th>\n",
       "      <th></th>\n",
       "      <th></th>\n",
       "      <th></th>\n",
       "      <th></th>\n",
       "      <th></th>\n",
       "      <th></th>\n",
       "      <th></th>\n",
       "      <th></th>\n",
       "      <th></th>\n",
       "    </tr>\n",
       "  </thead>\n",
       "  <tbody>\n",
       "    <tr>\n",
       "      <th>1423854</th>\n",
       "      <td>321</td>\n",
       "      <td>Wood St &amp; Hubbard St</td>\n",
       "      <td>Damen Ave &amp; Chicago Ave</td>\n",
       "      <td>Subscriber</td>\n",
       "      <td>Male</td>\n",
       "      <td>1992.0</td>\n",
       "      <td>15</td>\n",
       "      <td>Friday</td>\n",
       "      <td>June</td>\n",
       "      <td>2017-06-23</td>\n",
       "      <td>2017-06-23</td>\n",
       "      <td>0 days 03:09:00</td>\n",
       "      <td>0 days 03:14:00</td>\n",
       "      <td>0 days 00:05:00</td>\n",
       "    </tr>\n",
       "    <tr>\n",
       "      <th>955915</th>\n",
       "      <td>1610</td>\n",
       "      <td>Theater on the Lake</td>\n",
       "      <td>Sheffield Ave &amp; Waveland Ave</td>\n",
       "      <td>Subscriber</td>\n",
       "      <td>Female</td>\n",
       "      <td>1992.0</td>\n",
       "      <td>18</td>\n",
       "      <td>Thursday</td>\n",
       "      <td>May</td>\n",
       "      <td>2017-05-25</td>\n",
       "      <td>2017-05-25</td>\n",
       "      <td>0 days 06:19:00</td>\n",
       "      <td>0 days 06:45:00</td>\n",
       "      <td>0 days 00:26:00</td>\n",
       "    </tr>\n",
       "    <tr>\n",
       "      <th>9031</th>\n",
       "      <td>416</td>\n",
       "      <td>May St &amp; Taylor St</td>\n",
       "      <td>Wood St &amp; Taylor St</td>\n",
       "      <td>Subscriber</td>\n",
       "      <td>Male</td>\n",
       "      <td>1981.0</td>\n",
       "      <td>8</td>\n",
       "      <td>Wednesday</td>\n",
       "      <td>January</td>\n",
       "      <td>2017-01-04</td>\n",
       "      <td>2017-01-04</td>\n",
       "      <td>0 days 08:27:00</td>\n",
       "      <td>0 days 08:34:00</td>\n",
       "      <td>0 days 00:07:00</td>\n",
       "    </tr>\n",
       "    <tr>\n",
       "      <th>304487</th>\n",
       "      <td>350</td>\n",
       "      <td>Christiana Ave &amp; Lawrence Ave</td>\n",
       "      <td>St. Louis Ave &amp; Balmoral Ave</td>\n",
       "      <td>Subscriber</td>\n",
       "      <td>Male</td>\n",
       "      <td>1986.0</td>\n",
       "      <td>13</td>\n",
       "      <td>Monday</td>\n",
       "      <td>March</td>\n",
       "      <td>2017-03-06</td>\n",
       "      <td>2017-03-06</td>\n",
       "      <td>0 days 01:49:00</td>\n",
       "      <td>0 days 01:55:00</td>\n",
       "      <td>0 days 00:06:00</td>\n",
       "    </tr>\n",
       "    <tr>\n",
       "      <th>45207</th>\n",
       "      <td>534</td>\n",
       "      <td>Clark St &amp; Randolph St</td>\n",
       "      <td>Desplaines St &amp; Jackson Blvd</td>\n",
       "      <td>Subscriber</td>\n",
       "      <td>Male</td>\n",
       "      <td>1975.0</td>\n",
       "      <td>14</td>\n",
       "      <td>Tuesday</td>\n",
       "      <td>January</td>\n",
       "      <td>2017-01-17</td>\n",
       "      <td>2017-01-17</td>\n",
       "      <td>0 days 02:53:00</td>\n",
       "      <td>0 days 03:02:00</td>\n",
       "      <td>0 days 00:09:00</td>\n",
       "    </tr>\n",
       "  </tbody>\n",
       "</table>\n",
       "</div>"
      ],
      "text/plain": [
       "         trip duration                  start station  \\\n",
       "id                                                      \n",
       "1423854            321           Wood St & Hubbard St   \n",
       "955915            1610            Theater on the Lake   \n",
       "9031               416             May St & Taylor St   \n",
       "304487             350  Christiana Ave & Lawrence Ave   \n",
       "45207              534         Clark St & Randolph St   \n",
       "\n",
       "                          end station   user type  gender  birth year  hour  \\\n",
       "id                                                                            \n",
       "1423854       Damen Ave & Chicago Ave  Subscriber    Male      1992.0    15   \n",
       "955915   Sheffield Ave & Waveland Ave  Subscriber  Female      1992.0    18   \n",
       "9031              Wood St & Taylor St  Subscriber    Male      1981.0     8   \n",
       "304487   St. Louis Ave & Balmoral Ave  Subscriber    Male      1986.0    13   \n",
       "45207    Desplaines St & Jackson Blvd  Subscriber    Male      1975.0    14   \n",
       "\n",
       "               day    month    st date    en date         st time  \\\n",
       "id                                                                  \n",
       "1423854     Friday     June 2017-06-23 2017-06-23 0 days 03:09:00   \n",
       "955915    Thursday      May 2017-05-25 2017-05-25 0 days 06:19:00   \n",
       "9031     Wednesday  January 2017-01-04 2017-01-04 0 days 08:27:00   \n",
       "304487      Monday    March 2017-03-06 2017-03-06 0 days 01:49:00   \n",
       "45207      Tuesday  January 2017-01-17 2017-01-17 0 days 02:53:00   \n",
       "\n",
       "                en time  period of time  \n",
       "id                                       \n",
       "1423854 0 days 03:14:00 0 days 00:05:00  \n",
       "955915  0 days 06:45:00 0 days 00:26:00  \n",
       "9031    0 days 08:34:00 0 days 00:07:00  \n",
       "304487  0 days 01:55:00 0 days 00:06:00  \n",
       "45207   0 days 03:02:00 0 days 00:09:00  "
      ]
     },
     "execution_count": 46,
     "metadata": {},
     "output_type": "execute_result"
    }
   ],
   "source": [
    "chicago.head()"
   ]
  },
  {
   "cell_type": "code",
   "execution_count": 47,
   "id": "4fcfc3e3",
   "metadata": {},
   "outputs": [
    {
     "data": {
      "text/plain": [
       "June        98081\n",
       "May         66755\n",
       "April       51659\n",
       "February    32057\n",
       "March       29639\n",
       "January     21809\n",
       "Name: month, dtype: int64"
      ]
     },
     "execution_count": 47,
     "metadata": {},
     "output_type": "execute_result"
    }
   ],
   "source": [
    "chicago['month'].value_counts().sort_values(ascending=False)\n"
   ]
  },
  {
   "cell_type": "code",
   "execution_count": 48,
   "id": "50bb22a9",
   "metadata": {},
   "outputs": [
    {
     "data": {
      "text/plain": [
       "June        76022\n",
       "May         67015\n",
       "April       58176\n",
       "February    34741\n",
       "March       32164\n",
       "January     31882\n",
       "Name: month, dtype: int64"
      ]
     },
     "execution_count": 48,
     "metadata": {},
     "output_type": "execute_result"
    }
   ],
   "source": [
    "newyork['month'].value_counts().sort_values(ascending=False)\n"
   ]
  },
  {
   "cell_type": "code",
   "execution_count": 49,
   "id": "0f148621",
   "metadata": {},
   "outputs": [
    {
     "data": {
      "text/plain": [
       "June        68339\n",
       "April       62620\n",
       "May         58193\n",
       "March       41863\n",
       "February    38932\n",
       "January     30053\n",
       "Name: month, dtype: int64"
      ]
     },
     "execution_count": 49,
     "metadata": {},
     "output_type": "execute_result"
    }
   ],
   "source": [
    "washington['month'].value_counts().sort_values(ascending=False)\n"
   ]
  },
  {
   "cell_type": "markdown",
   "id": "d890a50f",
   "metadata": {},
   "source": [
    "-- --\n",
    "-- -- "
   ]
  },
  {
   "cell_type": "markdown",
   "id": "0fdcb4bc",
   "metadata": {},
   "source": [
    "## Popular times of travel"
   ]
  },
  {
   "cell_type": "markdown",
   "id": "7a95b384",
   "metadata": {},
   "source": [
    "- most common month\n",
    "- most common day of week\n",
    "- most common hour of day"
   ]
  },
  {
   "cell_type": "markdown",
   "id": "9b56d133",
   "metadata": {},
   "source": [
    " ##### Compute the most popular of the Month"
   ]
  },
  {
   "cell_type": "code",
   "execution_count": 50,
   "id": "a329557c",
   "metadata": {
    "scrolled": true
   },
   "outputs": [
    {
     "name": "stdout",
     "output_type": "stream",
     "text": [
      "The Common Month  in chicago, Is: (June)\n",
      "The Common Month  in newyork, Is: (June)\n",
      "The Common Month  in washington, Is: (June)\n"
     ]
    }
   ],
   "source": [
    "for data, dataname in zip(Data, Dataname):\n",
    "    comm_month = data['month'].mode()[0]\n",
    "    print(f'The Common Month  in {dataname}, Is: ({comm_month})')\n",
    "    "
   ]
  },
  {
   "cell_type": "markdown",
   "id": "8e4bc068",
   "metadata": {},
   "source": [
    " ##### Compute the most popular of the Day"
   ]
  },
  {
   "cell_type": "code",
   "execution_count": 51,
   "id": "8865e2ec",
   "metadata": {},
   "outputs": [
    {
     "name": "stdout",
     "output_type": "stream",
     "text": [
      "The Common Day of Week in chicago, Is: (Tuesday)\n",
      "The Common Day of Week in newyork, Is: (Wednesday)\n",
      "The Common Day of Week in washington, Is: (Wednesday)\n"
     ]
    }
   ],
   "source": [
    "for data, dataname in zip(Data, Dataname):\n",
    "    comm_day = data['day'].mode()[0]\n",
    "    print(f'The Common Day of Week in {dataname}, Is: ({comm_day})')\n",
    "    "
   ]
  },
  {
   "cell_type": "markdown",
   "id": "2d1c9ce7",
   "metadata": {},
   "source": [
    " ##### Compute the most popular of Hour"
   ]
  },
  {
   "cell_type": "code",
   "execution_count": 52,
   "id": "abf8b678",
   "metadata": {},
   "outputs": [
    {
     "name": "stdout",
     "output_type": "stream",
     "text": [
      "The Common Hour in chicago, Is: (17)\n",
      "The Common Hour in newyork, Is: (17)\n",
      "The Common Hour in washington, Is: (8)\n"
     ]
    }
   ],
   "source": [
    "for data, dataname in zip(Data, Dataname):\n",
    "    comm_hour = data['hour'].mode()[0]\n",
    "    print(f'The Common Hour in {dataname}, Is: ({comm_hour})')\n",
    "    "
   ]
  },
  {
   "cell_type": "markdown",
   "id": "2e8ec8cf",
   "metadata": {},
   "source": [
    "## Popular Station and Trip"
   ]
  },
  {
   "cell_type": "markdown",
   "id": "82c539db",
   "metadata": {},
   "source": [
    "- most common start station\n",
    "- most common end station\n",
    "- most common trip from start to end (i.e., most frequent combination of start station and end station)"
   ]
  },
  {
   "cell_type": "markdown",
   "id": "84fb383a",
   "metadata": {},
   "source": [
    "##### Most Common Start Station"
   ]
  },
  {
   "cell_type": "code",
   "execution_count": 53,
   "id": "cf58d010",
   "metadata": {},
   "outputs": [
    {
     "name": "stdout",
     "output_type": "stream",
     "text": [
      "The Common of Start Station in chicago, Is: (Streeter Dr & Grand Ave)\n",
      "The Common of Start Station in newyork, Is: (Pershing Square North)\n",
      "The Common of Start Station in washington, Is: (Columbus Circle / Union Station)\n"
     ]
    }
   ],
   "source": [
    "for data, dataname in zip(Data, Dataname):\n",
    "    comm_st_station = data['start station'].mode()[0]\n",
    "    print(f'The Common of Start Station in {dataname}, Is: ({comm_st_station})')\n",
    "    "
   ]
  },
  {
   "cell_type": "markdown",
   "id": "093fbfc5",
   "metadata": {},
   "source": [
    "##### Most Common End Station"
   ]
  },
  {
   "cell_type": "code",
   "execution_count": 54,
   "id": "28494980",
   "metadata": {},
   "outputs": [
    {
     "name": "stdout",
     "output_type": "stream",
     "text": [
      "The Common of End Station in chicago, Is: (Streeter Dr & Grand Ave)\n",
      "The Common of End Station in newyork, Is: (Pershing Square North)\n",
      "The Common of End Station in washington, Is: (Columbus Circle / Union Station)\n"
     ]
    }
   ],
   "source": [
    "for data, dataname in zip(Data, Dataname):\n",
    "    comm_end_station = data['end station'].mode()[0]\n",
    "    print(f'The Common of End Station in {dataname}, Is: ({comm_end_station})')\n",
    "    "
   ]
  },
  {
   "cell_type": "markdown",
   "id": "e139cbab",
   "metadata": {},
   "source": [
    "##### Most Common Trip Duration"
   ]
  },
  {
   "cell_type": "code",
   "execution_count": 55,
   "id": "0f8888eb",
   "metadata": {},
   "outputs": [
    {
     "name": "stdout",
     "output_type": "stream",
     "text": [
      "The Common of Trip Duration in chicago, Is: (364).\n",
      "The Common of Trip Duration in newyork, Is: (331).\n",
      "The Common of Trip Duration in washington, Is: (330).\n"
     ]
    }
   ],
   "source": [
    "for data, dataname in zip(Data, Dataname):\n",
    "    comm_trip = data['trip duration'].mode()[0]\n",
    "    print(f'The Common of Trip Duration in {dataname}, Is: ({comm_trip}).')\n",
    "    "
   ]
  },
  {
   "cell_type": "markdown",
   "id": "60612639",
   "metadata": {},
   "source": [
    "##### Most Common Trip Duration and Start and End Station"
   ]
  },
  {
   "cell_type": "code",
   "execution_count": 56,
   "id": "c6845840",
   "metadata": {},
   "outputs": [
    {
     "name": "stdout",
     "output_type": "stream",
     "text": [
      "Common Trip Duration in chicago, Is: (364). Start & End Station, Is: (Streeter Dr & Grand Ave) To (Streeter Dr & Grand Ave).\n",
      "Common Trip Duration in newyork, Is: (331). Start & End Station, Is: (Pershing Square North) To (Pershing Square North).\n",
      "Common Trip Duration in washington, Is: (330). Start & End Station, Is: (Columbus Circle / Union Station) To (Columbus Circle / Union Station).\n"
     ]
    }
   ],
   "source": [
    "for data, dataname in zip(Data, Dataname):\n",
    "    comm_trip = data['trip duration'].mode()[0]\n",
    "    comm_st_station = data['start station'].mode()[0]\n",
    "    comm_en_station = data['end station'].mode()[0]\n",
    "    print(f'Common Trip Duration in {dataname}, Is: ({comm_trip}). Start & End Station, Is: ({comm_st_station}) To ({comm_en_station}).')\n",
    "    "
   ]
  },
  {
   "cell_type": "markdown",
   "id": "162a31a2",
   "metadata": {},
   "source": [
    "##### Most Common Combination of Start to End Station in Chicago"
   ]
  },
  {
   "cell_type": "code",
   "execution_count": 57,
   "id": "7ae021ac",
   "metadata": {},
   "outputs": [
    {
     "data": {
      "text/html": [
       "<div>\n",
       "<style scoped>\n",
       "    .dataframe tbody tr th:only-of-type {\n",
       "        vertical-align: middle;\n",
       "    }\n",
       "\n",
       "    .dataframe tbody tr th {\n",
       "        vertical-align: top;\n",
       "    }\n",
       "\n",
       "    .dataframe thead th {\n",
       "        text-align: right;\n",
       "    }\n",
       "</style>\n",
       "<table border=\"1\" class=\"dataframe\">\n",
       "  <thead>\n",
       "    <tr style=\"text-align: right;\">\n",
       "      <th></th>\n",
       "      <th></th>\n",
       "      <th>0</th>\n",
       "    </tr>\n",
       "    <tr>\n",
       "      <th>start station</th>\n",
       "      <th>end station</th>\n",
       "      <th></th>\n",
       "    </tr>\n",
       "  </thead>\n",
       "  <tbody>\n",
       "    <tr>\n",
       "      <th>Lake Shore Dr &amp; Monroe St</th>\n",
       "      <th>Streeter Dr &amp; Grand Ave</th>\n",
       "      <td>854</td>\n",
       "    </tr>\n",
       "  </tbody>\n",
       "</table>\n",
       "</div>"
      ],
      "text/plain": [
       "                                                     0\n",
       "start station             end station                 \n",
       "Lake Shore Dr & Monroe St Streeter Dr & Grand Ave  854"
      ]
     },
     "execution_count": 57,
     "metadata": {},
     "output_type": "execute_result"
    }
   ],
   "source": [
    "comm_trip_chic = chicago.groupby(['start station','end station']).size().sort_values(ascending=False)\n",
    "comm_trip_chic.head(1).to_frame()"
   ]
  },
  {
   "cell_type": "markdown",
   "id": "a497d839",
   "metadata": {},
   "source": [
    "##### Most Common Combination of Start, End Station and Trip Duration"
   ]
  },
  {
   "cell_type": "code",
   "execution_count": 58,
   "id": "63a4335a",
   "metadata": {},
   "outputs": [
    {
     "data": {
      "text/html": [
       "<div>\n",
       "<style scoped>\n",
       "    .dataframe tbody tr th:only-of-type {\n",
       "        vertical-align: middle;\n",
       "    }\n",
       "\n",
       "    .dataframe tbody tr th {\n",
       "        vertical-align: top;\n",
       "    }\n",
       "\n",
       "    .dataframe thead th {\n",
       "        text-align: right;\n",
       "    }\n",
       "</style>\n",
       "<table border=\"1\" class=\"dataframe\">\n",
       "  <thead>\n",
       "    <tr style=\"text-align: right;\">\n",
       "      <th></th>\n",
       "      <th></th>\n",
       "      <th></th>\n",
       "      <th>0</th>\n",
       "    </tr>\n",
       "    <tr>\n",
       "      <th>start station</th>\n",
       "      <th>end station</th>\n",
       "      <th>trip duration</th>\n",
       "      <th></th>\n",
       "    </tr>\n",
       "  </thead>\n",
       "  <tbody>\n",
       "    <tr>\n",
       "      <th>Sheridan Rd &amp; Irving Park Rd</th>\n",
       "      <th>Pine Grove Ave &amp; Irving Park Rd</th>\n",
       "      <th>149</th>\n",
       "      <td>7</td>\n",
       "    </tr>\n",
       "  </tbody>\n",
       "</table>\n",
       "</div>"
      ],
      "text/plain": [
       "                                                                            0\n",
       "start station                end station                     trip duration   \n",
       "Sheridan Rd & Irving Park Rd Pine Grove Ave & Irving Park Rd 149            7"
      ]
     },
     "execution_count": 58,
     "metadata": {},
     "output_type": "execute_result"
    }
   ],
   "source": [
    "comm_trip_chic = chicago.groupby(['start station','end station', 'trip duration']).size().sort_values(ascending=False)\n",
    "comm_trip_chic.head(1).to_frame()"
   ]
  },
  {
   "cell_type": "markdown",
   "id": "4b24d377",
   "metadata": {},
   "source": [
    "##### Most Common Combination of Start to End Station in NewYork"
   ]
  },
  {
   "cell_type": "code",
   "execution_count": 59,
   "id": "26e5ca88",
   "metadata": {},
   "outputs": [
    {
     "data": {
      "text/html": [
       "<div>\n",
       "<style scoped>\n",
       "    .dataframe tbody tr th:only-of-type {\n",
       "        vertical-align: middle;\n",
       "    }\n",
       "\n",
       "    .dataframe tbody tr th {\n",
       "        vertical-align: top;\n",
       "    }\n",
       "\n",
       "    .dataframe thead th {\n",
       "        text-align: right;\n",
       "    }\n",
       "</style>\n",
       "<table border=\"1\" class=\"dataframe\">\n",
       "  <thead>\n",
       "    <tr style=\"text-align: right;\">\n",
       "      <th></th>\n",
       "      <th></th>\n",
       "      <th>0</th>\n",
       "    </tr>\n",
       "    <tr>\n",
       "      <th>start station</th>\n",
       "      <th>end station</th>\n",
       "      <th></th>\n",
       "    </tr>\n",
       "  </thead>\n",
       "  <tbody>\n",
       "    <tr>\n",
       "      <th>E 7 St &amp; Avenue A</th>\n",
       "      <th>Cooper Square &amp; E 7 St</th>\n",
       "      <td>168</td>\n",
       "    </tr>\n",
       "  </tbody>\n",
       "</table>\n",
       "</div>"
      ],
      "text/plain": [
       "                                            0\n",
       "start station     end station                \n",
       "E 7 St & Avenue A Cooper Square & E 7 St  168"
      ]
     },
     "execution_count": 59,
     "metadata": {},
     "output_type": "execute_result"
    }
   ],
   "source": [
    "comm_trip_new = newyork.groupby(['start station','end station']).size().sort_values(ascending=False)\n",
    "comm_trip_new.head(1).to_frame()"
   ]
  },
  {
   "cell_type": "markdown",
   "id": "7d093659",
   "metadata": {},
   "source": [
    "##### Most Common Combination of Start to End Station in Washington"
   ]
  },
  {
   "cell_type": "code",
   "execution_count": 60,
   "id": "1c5b559a",
   "metadata": {},
   "outputs": [
    {
     "data": {
      "text/html": [
       "<div>\n",
       "<style scoped>\n",
       "    .dataframe tbody tr th:only-of-type {\n",
       "        vertical-align: middle;\n",
       "    }\n",
       "\n",
       "    .dataframe tbody tr th {\n",
       "        vertical-align: top;\n",
       "    }\n",
       "\n",
       "    .dataframe thead th {\n",
       "        text-align: right;\n",
       "    }\n",
       "</style>\n",
       "<table border=\"1\" class=\"dataframe\">\n",
       "  <thead>\n",
       "    <tr style=\"text-align: right;\">\n",
       "      <th></th>\n",
       "      <th></th>\n",
       "      <th>0</th>\n",
       "    </tr>\n",
       "    <tr>\n",
       "      <th>start station</th>\n",
       "      <th>end station</th>\n",
       "      <th></th>\n",
       "    </tr>\n",
       "  </thead>\n",
       "  <tbody>\n",
       "    <tr>\n",
       "      <th>Jefferson Dr &amp; 14th St SW</th>\n",
       "      <th>Jefferson Dr &amp; 14th St SW</th>\n",
       "      <td>673</td>\n",
       "    </tr>\n",
       "  </tbody>\n",
       "</table>\n",
       "</div>"
      ],
      "text/plain": [
       "                                                       0\n",
       "start station             end station                   \n",
       "Jefferson Dr & 14th St SW Jefferson Dr & 14th St SW  673"
      ]
     },
     "execution_count": 60,
     "metadata": {},
     "output_type": "execute_result"
    }
   ],
   "source": [
    "comm_trip_wash = washington.groupby(['start station','end station']).size().sort_values(ascending=False)\n",
    "comm_trip_wash.head(1).to_frame()"
   ]
  },
  {
   "cell_type": "markdown",
   "id": "e4ff2f51",
   "metadata": {},
   "source": [
    "## Trip Duration"
   ]
  },
  {
   "cell_type": "markdown",
   "id": "972055d2",
   "metadata": {},
   "source": [
    "- Total Travel Time.\n",
    "- Average Travel Time."
   ]
  },
  {
   "cell_type": "markdown",
   "id": "2cfc044b",
   "metadata": {},
   "source": [
    "##### Compute Total Travel Time in Chicago"
   ]
  },
  {
   "cell_type": "code",
   "execution_count": 61,
   "id": "e48ef356",
   "metadata": {},
   "outputs": [
    {
     "data": {
      "text/plain": [
       "280871787"
      ]
     },
     "execution_count": 61,
     "metadata": {},
     "output_type": "execute_result"
    }
   ],
   "source": [
    "chicago['trip duration'].sum()\n"
   ]
  },
  {
   "cell_type": "code",
   "execution_count": 62,
   "id": "2756162e",
   "metadata": {},
   "outputs": [
    {
     "data": {
      "text/plain": [
       "Timedelta('477 days 19:42:00')"
      ]
     },
     "execution_count": 62,
     "metadata": {},
     "output_type": "execute_result"
    }
   ],
   "source": [
    "chicago['period of time'].sum()\n"
   ]
  },
  {
   "cell_type": "code",
   "execution_count": 63,
   "id": "405e9ec8",
   "metadata": {},
   "outputs": [
    {
     "data": {
      "text/plain": [
       "Timedelta('0 days 11:16:00')"
      ]
     },
     "execution_count": 63,
     "metadata": {},
     "output_type": "execute_result"
    }
   ],
   "source": [
    "chicago['period of time'].max()\n"
   ]
  },
  {
   "cell_type": "code",
   "execution_count": 64,
   "id": "e4694ba8",
   "metadata": {},
   "outputs": [
    {
     "data": {
      "text/plain": [
       "id\n",
       "1123568   0 days 11:16:00\n",
       "1222299   0 days 10:49:00\n",
       "561315    0 days 10:22:00\n",
       "16941     0 days 10:21:00\n",
       "203679    0 days 09:49:00\n",
       "Name: period of time, dtype: timedelta64[ns]"
      ]
     },
     "execution_count": 64,
     "metadata": {},
     "output_type": "execute_result"
    }
   ],
   "source": [
    "chicago['period of time'].sort_values(ascending=False).head()\n"
   ]
  },
  {
   "cell_type": "code",
   "execution_count": 65,
   "id": "fcc38ad2",
   "metadata": {},
   "outputs": [
    {
     "data": {
      "text/plain": [
       "0 days 00:06:00    18902\n",
       "0 days 00:05:00    18824\n",
       "0 days 00:07:00    18361\n",
       "0 days 00:04:00    17150\n",
       "0 days 00:08:00    17092\n",
       "Name: period of time, dtype: int64"
      ]
     },
     "execution_count": 65,
     "metadata": {},
     "output_type": "execute_result"
    }
   ],
   "source": [
    "chicago['period of time'].value_counts().head()"
   ]
  },
  {
   "cell_type": "markdown",
   "id": "07185922",
   "metadata": {},
   "source": [
    "##### Compute Average Travel Time in Chicago"
   ]
  },
  {
   "cell_type": "code",
   "execution_count": 66,
   "id": "d16683c0",
   "metadata": {},
   "outputs": [
    {
     "data": {
      "text/plain": [
       "936.23929"
      ]
     },
     "execution_count": 66,
     "metadata": {},
     "output_type": "execute_result"
    }
   ],
   "source": [
    "chicago['trip duration'].mean()\n"
   ]
  },
  {
   "cell_type": "code",
   "execution_count": 67,
   "id": "26ba7799",
   "metadata": {},
   "outputs": [
    {
     "data": {
      "text/plain": [
       "Timedelta('0 days 00:02:17.612400')"
      ]
     },
     "execution_count": 67,
     "metadata": {},
     "output_type": "execute_result"
    }
   ],
   "source": [
    "chicago['period of time'].mean()\n"
   ]
  },
  {
   "cell_type": "markdown",
   "id": "49cf8d1a",
   "metadata": {},
   "source": [
    "##### Compute Total Travel Time in NewYork"
   ]
  },
  {
   "cell_type": "code",
   "execution_count": 68,
   "id": "12489c76",
   "metadata": {},
   "outputs": [
    {
     "data": {
      "text/plain": [
       "269905248"
      ]
     },
     "execution_count": 68,
     "metadata": {},
     "output_type": "execute_result"
    }
   ],
   "source": [
    "newyork['trip duration'].sum()\n"
   ]
  },
  {
   "cell_type": "code",
   "execution_count": 69,
   "id": "7086c16d",
   "metadata": {},
   "outputs": [
    {
     "data": {
      "text/plain": [
       "Timedelta('625 days 23:53:00')"
      ]
     },
     "execution_count": 69,
     "metadata": {},
     "output_type": "execute_result"
    }
   ],
   "source": [
    "newyork['period of time'].sum()\n"
   ]
  },
  {
   "cell_type": "code",
   "execution_count": 70,
   "id": "5640c1a4",
   "metadata": {},
   "outputs": [
    {
     "data": {
      "text/plain": [
       "Timedelta('0 days 09:35:00')"
      ]
     },
     "execution_count": 70,
     "metadata": {},
     "output_type": "execute_result"
    }
   ],
   "source": [
    "newyork['period of time'].max()\n"
   ]
  },
  {
   "cell_type": "code",
   "execution_count": 71,
   "id": "46950711",
   "metadata": {},
   "outputs": [
    {
     "data": {
      "text/plain": [
       "id\n",
       "3820180   0 days 09:35:00\n",
       "5802225   0 days 09:31:00\n",
       "2329905   0 days 09:21:00\n",
       "5573434   0 days 08:58:00\n",
       "3490042   0 days 08:42:00\n",
       "Name: period of time, dtype: timedelta64[ns]"
      ]
     },
     "execution_count": 71,
     "metadata": {},
     "output_type": "execute_result"
    }
   ],
   "source": [
    "newyork['period of time'].sort_values(ascending=False).head()\n"
   ]
  },
  {
   "cell_type": "code",
   "execution_count": 72,
   "id": "2a084cfe",
   "metadata": {},
   "outputs": [
    {
     "data": {
      "text/plain": [
       "0 days 00:06:00    21113\n",
       "0 days 00:05:00    20693\n",
       "0 days 00:07:00    20379\n",
       "0 days 00:08:00    18781\n",
       "0 days 00:04:00    18265\n",
       "Name: period of time, dtype: int64"
      ]
     },
     "execution_count": 72,
     "metadata": {},
     "output_type": "execute_result"
    }
   ],
   "source": [
    "newyork['period of time'].value_counts().head()\n"
   ]
  },
  {
   "cell_type": "markdown",
   "id": "22399203",
   "metadata": {},
   "source": [
    "##### Compute Average Travel Time in NewYork"
   ]
  },
  {
   "cell_type": "code",
   "execution_count": 73,
   "id": "2a3e0815",
   "metadata": {},
   "outputs": [
    {
     "data": {
      "text/plain": [
       "899.68416"
      ]
     },
     "execution_count": 73,
     "metadata": {},
     "output_type": "execute_result"
    }
   ],
   "source": [
    "newyork['trip duration'].mean()\n"
   ]
  },
  {
   "cell_type": "code",
   "execution_count": 74,
   "id": "0e687b10",
   "metadata": {},
   "outputs": [
    {
     "data": {
      "text/plain": [
       "Timedelta('0 days 00:03:00.286600')"
      ]
     },
     "execution_count": 74,
     "metadata": {},
     "output_type": "execute_result"
    }
   ],
   "source": [
    "newyork['period of time'].mean()\n"
   ]
  },
  {
   "cell_type": "markdown",
   "id": "4bcadffa",
   "metadata": {},
   "source": [
    "##### Compute Total Travel Time in Washington"
   ]
  },
  {
   "cell_type": "code",
   "execution_count": 75,
   "id": "9a278ae7",
   "metadata": {},
   "outputs": [
    {
     "data": {
      "text/plain": [
       "371034247"
      ]
     },
     "execution_count": 75,
     "metadata": {},
     "output_type": "execute_result"
    }
   ],
   "source": [
    "washington['trip duration'].sum()\n"
   ]
  },
  {
   "cell_type": "code",
   "execution_count": 76,
   "id": "e677c88b",
   "metadata": {},
   "outputs": [
    {
     "data": {
      "text/plain": [
       "Timedelta('352 days 15:36:47')"
      ]
     },
     "execution_count": 76,
     "metadata": {},
     "output_type": "execute_result"
    }
   ],
   "source": [
    "washington['period of time'].sum()\n"
   ]
  },
  {
   "cell_type": "code",
   "execution_count": 77,
   "id": "67174622",
   "metadata": {},
   "outputs": [
    {
     "data": {
      "text/plain": [
       "Timedelta('0 days 11:16:08')"
      ]
     },
     "execution_count": 77,
     "metadata": {},
     "output_type": "execute_result"
    }
   ],
   "source": [
    "washington['period of time'].max()\n"
   ]
  },
  {
   "cell_type": "code",
   "execution_count": 78,
   "id": "dc857359",
   "metadata": {},
   "outputs": [
    {
     "data": {
      "text/plain": [
       "id\n",
       "1219330   0 days 11:16:08\n",
       "721613    0 days 10:48:37\n",
       "1625669   0 days 10:31:31\n",
       "1133154   0 days 10:15:17\n",
       "1205182   0 days 10:03:07\n",
       "Name: period of time, dtype: timedelta64[ns]"
      ]
     },
     "execution_count": 78,
     "metadata": {},
     "output_type": "execute_result"
    }
   ],
   "source": [
    "washington['period of time'].sort_values(ascending=False).head()"
   ]
  },
  {
   "cell_type": "code",
   "execution_count": 79,
   "id": "c5e743d2",
   "metadata": {},
   "outputs": [
    {
     "data": {
      "text/plain": [
       "0 days 00:06:00    7729\n",
       "0 days 00:05:00    7562\n",
       "0 days 00:07:00    7468\n",
       "0 days 00:04:00    6976\n",
       "0 days 00:08:00    6929\n",
       "Name: period of time, dtype: int64"
      ]
     },
     "execution_count": 79,
     "metadata": {},
     "output_type": "execute_result"
    }
   ],
   "source": [
    "washington['period of time'].value_counts().head()"
   ]
  },
  {
   "cell_type": "markdown",
   "id": "90d34567",
   "metadata": {},
   "source": [
    "##### Compute Average Travel Time in Washington"
   ]
  },
  {
   "cell_type": "code",
   "execution_count": 80,
   "id": "d8a16f01",
   "metadata": {},
   "outputs": [
    {
     "data": {
      "text/plain": [
       "1236.7808233333333"
      ]
     },
     "execution_count": 80,
     "metadata": {},
     "output_type": "execute_result"
    }
   ],
   "source": [
    "washington['trip duration'].mean()\n"
   ]
  },
  {
   "cell_type": "code",
   "execution_count": 81,
   "id": "92c7642b",
   "metadata": {},
   "outputs": [
    {
     "data": {
      "text/plain": [
       "Timedelta('0 days 00:01:41.563356666')"
      ]
     },
     "execution_count": 81,
     "metadata": {},
     "output_type": "execute_result"
    }
   ],
   "source": [
    "washington['period of time'].mean()\n"
   ]
  },
  {
   "cell_type": "markdown",
   "id": "01cb4a1b",
   "metadata": {},
   "source": [
    "## User Info"
   ]
  },
  {
   "cell_type": "markdown",
   "id": "77a43685",
   "metadata": {},
   "source": [
    "- Counts of Each User Type.\n",
    "- Counts of Each Gender (only available in Chicago & NYC).\n",
    "- Earliest, Most Recently, Most Common Year of Birth (only available in Chicago & NYC)."
   ]
  },
  {
   "cell_type": "markdown",
   "id": "1bc7fb87",
   "metadata": {},
   "source": [
    "##### Counts of Each User Type"
   ]
  },
  {
   "cell_type": "code",
   "execution_count": 82,
   "id": "e542b16d",
   "metadata": {},
   "outputs": [
    {
     "name": "stdout",
     "output_type": "stream",
     "text": [
      "Counts of each User in chicago, Is: \n",
      "Subscriber    238889\n",
      "Customer       61110\n",
      "Dependent          1\n",
      "Name: user type, dtype: int64.\n",
      "------------------------------\n",
      "Counts of each User in newyork, Is: \n",
      "Subscriber    269149\n",
      "Customer       30159\n",
      "Name: user type, dtype: int64.\n",
      "------------------------------\n",
      "Counts of each User in washington, Is: \n",
      "Subscriber    220786\n",
      "Customer       79214\n",
      "Name: user type, dtype: int64.\n",
      "------------------------------\n"
     ]
    }
   ],
   "source": [
    "for data, dataname in zip(Data, Dataname):\n",
    "    cou_user = data['user type'].value_counts()\n",
    "    print(f'Counts of each User in {dataname}, Is: \\n{cou_user}.')\n",
    "    print('-'*30)"
   ]
  },
  {
   "cell_type": "code",
   "execution_count": 83,
   "id": "d63c3ce4",
   "metadata": {},
   "outputs": [
    {
     "data": {
      "text/html": [
       "<div>\n",
       "<style scoped>\n",
       "    .dataframe tbody tr th:only-of-type {\n",
       "        vertical-align: middle;\n",
       "    }\n",
       "\n",
       "    .dataframe tbody tr th {\n",
       "        vertical-align: top;\n",
       "    }\n",
       "\n",
       "    .dataframe thead th {\n",
       "        text-align: right;\n",
       "    }\n",
       "</style>\n",
       "<table border=\"1\" class=\"dataframe\">\n",
       "  <thead>\n",
       "    <tr style=\"text-align: right;\">\n",
       "      <th></th>\n",
       "      <th>trip duration</th>\n",
       "      <th>start station</th>\n",
       "      <th>end station</th>\n",
       "      <th>user type</th>\n",
       "      <th>gender</th>\n",
       "      <th>birth year</th>\n",
       "      <th>hour</th>\n",
       "      <th>day</th>\n",
       "      <th>month</th>\n",
       "      <th>st date</th>\n",
       "      <th>en date</th>\n",
       "      <th>st time</th>\n",
       "      <th>en time</th>\n",
       "      <th>period of time</th>\n",
       "    </tr>\n",
       "    <tr>\n",
       "      <th>id</th>\n",
       "      <th></th>\n",
       "      <th></th>\n",
       "      <th></th>\n",
       "      <th></th>\n",
       "      <th></th>\n",
       "      <th></th>\n",
       "      <th></th>\n",
       "      <th></th>\n",
       "      <th></th>\n",
       "      <th></th>\n",
       "      <th></th>\n",
       "      <th></th>\n",
       "      <th></th>\n",
       "      <th></th>\n",
       "    </tr>\n",
       "  </thead>\n",
       "  <tbody>\n",
       "    <tr>\n",
       "      <th>195860</th>\n",
       "      <td>311</td>\n",
       "      <td>Emerald Ave &amp; 28th St</td>\n",
       "      <td>Halsted St &amp; Archer Ave</td>\n",
       "      <td>Dependent</td>\n",
       "      <td>Male</td>\n",
       "      <td>1979.0</td>\n",
       "      <td>7</td>\n",
       "      <td>Saturday</td>\n",
       "      <td>February</td>\n",
       "      <td>2017-02-18</td>\n",
       "      <td>2017-02-18</td>\n",
       "      <td>0 days 07:47:00</td>\n",
       "      <td>0 days 07:52:00</td>\n",
       "      <td>0 days 00:05:00</td>\n",
       "    </tr>\n",
       "  </tbody>\n",
       "</table>\n",
       "</div>"
      ],
      "text/plain": [
       "        trip duration          start station              end station  \\\n",
       "id                                                                      \n",
       "195860            311  Emerald Ave & 28th St  Halsted St & Archer Ave   \n",
       "\n",
       "        user type gender  birth year  hour       day     month    st date  \\\n",
       "id                                                                          \n",
       "195860  Dependent   Male      1979.0     7  Saturday  February 2017-02-18   \n",
       "\n",
       "          en date         st time         en time  period of time  \n",
       "id                                                                 \n",
       "195860 2017-02-18 0 days 07:47:00 0 days 07:52:00 0 days 00:05:00  "
      ]
     },
     "execution_count": 83,
     "metadata": {},
     "output_type": "execute_result"
    }
   ],
   "source": [
    "chicago[chicago['user type'] == 'Dependent']"
   ]
  },
  {
   "cell_type": "markdown",
   "id": "eb31ef73",
   "metadata": {},
   "source": [
    "##### Counts of Each Gender (only available in Chicago & NYC)"
   ]
  },
  {
   "cell_type": "code",
   "execution_count": 84,
   "id": "3e14e338",
   "metadata": {},
   "outputs": [
    {
     "data": {
      "text/plain": [
       "Male      181190\n",
       "Female     57758\n",
       "Name: gender, dtype: int64"
      ]
     },
     "execution_count": 84,
     "metadata": {},
     "output_type": "execute_result"
    }
   ],
   "source": [
    "cou_chic_gender = chicago['gender'].value_counts()\n",
    "cou_chic_gender"
   ]
  },
  {
   "cell_type": "code",
   "execution_count": 85,
   "id": "35eb0446",
   "metadata": {},
   "outputs": [
    {
     "data": {
      "text/plain": [
       "Male      204008\n",
       "Female     66783\n",
       "Name: gender, dtype: int64"
      ]
     },
     "execution_count": 85,
     "metadata": {},
     "output_type": "execute_result"
    }
   ],
   "source": [
    "cou_new_gender = newyork['gender'].value_counts()\n",
    "cou_new_gender"
   ]
  },
  {
   "cell_type": "markdown",
   "id": "0370b37d",
   "metadata": {},
   "source": [
    "#### Earliest, Most Recently, Most Common Year of Birth (only available in Chicago & NYC)"
   ]
  },
  {
   "cell_type": "markdown",
   "id": "9ef1e9df",
   "metadata": {},
   "source": [
    "###### Most Earliest Year of Birth"
   ]
  },
  {
   "cell_type": "code",
   "execution_count": 86,
   "id": "051e641d",
   "metadata": {},
   "outputs": [
    {
     "data": {
      "text/plain": [
       "1899.0"
      ]
     },
     "execution_count": 86,
     "metadata": {},
     "output_type": "execute_result"
    }
   ],
   "source": [
    "chicago['birth year'].min()"
   ]
  },
  {
   "cell_type": "code",
   "execution_count": 87,
   "id": "c0383ad8",
   "metadata": {},
   "outputs": [
    {
     "data": {
      "text/plain": [
       "1885.0"
      ]
     },
     "execution_count": 87,
     "metadata": {},
     "output_type": "execute_result"
    }
   ],
   "source": [
    "newyork['birth year'].min()"
   ]
  },
  {
   "cell_type": "markdown",
   "id": "4e0492ec",
   "metadata": {},
   "source": [
    "###### Most Recently Year of Birth"
   ]
  },
  {
   "cell_type": "code",
   "execution_count": 88,
   "id": "c2d5fa16",
   "metadata": {},
   "outputs": [
    {
     "data": {
      "text/plain": [
       "2016.0"
      ]
     },
     "execution_count": 88,
     "metadata": {},
     "output_type": "execute_result"
    }
   ],
   "source": [
    "chicago['birth year'].max()"
   ]
  },
  {
   "cell_type": "code",
   "execution_count": 89,
   "id": "fdb2e266",
   "metadata": {},
   "outputs": [
    {
     "data": {
      "text/plain": [
       "2001.0"
      ]
     },
     "execution_count": 89,
     "metadata": {},
     "output_type": "execute_result"
    }
   ],
   "source": [
    "newyork['birth year'].max()"
   ]
  },
  {
   "cell_type": "markdown",
   "id": "4790282a",
   "metadata": {},
   "source": [
    "###### Most Common Year of Birth"
   ]
  },
  {
   "cell_type": "code",
   "execution_count": 90,
   "id": "3cb42b39",
   "metadata": {},
   "outputs": [
    {
     "data": {
      "text/plain": [
       "1989.0"
      ]
     },
     "execution_count": 90,
     "metadata": {},
     "output_type": "execute_result"
    }
   ],
   "source": [
    "chicago['birth year'].mode()[0]"
   ]
  },
  {
   "cell_type": "code",
   "execution_count": 91,
   "id": "3c27e4c5",
   "metadata": {},
   "outputs": [
    {
     "data": {
      "text/plain": [
       "1989.0"
      ]
     },
     "execution_count": 91,
     "metadata": {},
     "output_type": "execute_result"
    }
   ],
   "source": [
    "newyork['birth year'].mode()[0]"
   ]
  },
  {
   "cell_type": "code",
   "execution_count": null,
   "id": "6e0642cb",
   "metadata": {},
   "outputs": [],
   "source": []
  }
 ],
 "metadata": {
  "kernelspec": {
   "display_name": "Python 3 (ipykernel)",
   "language": "python",
   "name": "python3"
  },
  "language_info": {
   "codemirror_mode": {
    "name": "ipython",
    "version": 3
   },
   "file_extension": ".py",
   "mimetype": "text/x-python",
   "name": "python",
   "nbconvert_exporter": "python",
   "pygments_lexer": "ipython3",
   "version": "3.9.13"
  }
 },
 "nbformat": 4,
 "nbformat_minor": 5
}
